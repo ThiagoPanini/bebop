{
 "cells": [
  {
   "cell_type": "markdown",
   "metadata": {
    "toc": true
   },
   "source": [
    "<h1>Table of Contents<span class=\"tocSkip\"></span></h1>\n",
    "<div class=\"toc\"><ul class=\"toc-item\"></ul></div>"
   ]
  },
  {
   "cell_type": "code",
   "execution_count": 1,
   "metadata": {
    "ExecuteTime": {
     "end_time": "2020-11-24T21:20:37.696631Z",
     "start_time": "2020-11-24T21:20:35.950989Z"
    }
   },
   "outputs": [
    {
     "name": "stdout",
     "output_type": "stream",
     "text": [
      "Requirement already satisfied: pycomp==0.0.17 from file:///home/paninit/workspaces/pycomp/dist/pycomp-0.0.17-py3-none-any.whl in /home/paninit/anaconda3/lib/python3.7/site-packages (0.0.17)\n",
      "Requirement already satisfied: joblib==0.17.0 in /home/paninit/anaconda3/lib/python3.7/site-packages (from pycomp==0.0.17) (0.17.0)\n",
      "Requirement already satisfied: shap==0.37.0 in /home/paninit/anaconda3/lib/python3.7/site-packages (from pycomp==0.0.17) (0.37.0)\n",
      "Requirement already satisfied: numpy==1.19.3 in /home/paninit/anaconda3/lib/python3.7/site-packages (from pycomp==0.0.17) (1.19.3)\n",
      "Requirement already satisfied: matplotlib==3.3.2 in /home/paninit/anaconda3/lib/python3.7/site-packages (from pycomp==0.0.17) (3.3.2)\n",
      "Requirement already satisfied: seaborn==0.11.0 in /home/paninit/anaconda3/lib/python3.7/site-packages (from pycomp==0.0.17) (0.11.0)\n",
      "Requirement already satisfied: scikit-learn==0.23.2 in /home/paninit/anaconda3/lib/python3.7/site-packages (from pycomp==0.0.17) (0.23.2)\n",
      "Requirement already satisfied: pandas==1.1.3 in /home/paninit/anaconda3/lib/python3.7/site-packages (from pycomp==0.0.17) (1.1.3)\n",
      "Requirement already satisfied: tqdm>4.25.0 in /home/paninit/anaconda3/lib/python3.7/site-packages (from shap==0.37.0->pycomp==0.0.17) (4.50.0)\n",
      "Requirement already satisfied: slicer==0.0.3 in /home/paninit/anaconda3/lib/python3.7/site-packages (from shap==0.37.0->pycomp==0.0.17) (0.0.3)\n",
      "Requirement already satisfied: numba in /home/paninit/anaconda3/lib/python3.7/site-packages (from shap==0.37.0->pycomp==0.0.17) (0.51.2)\n",
      "Requirement already satisfied: scipy in /home/paninit/anaconda3/lib/python3.7/site-packages (from shap==0.37.0->pycomp==0.0.17) (1.5.2)\n",
      "Requirement already satisfied: python-dateutil>=2.1 in /home/paninit/anaconda3/lib/python3.7/site-packages (from matplotlib==3.3.2->pycomp==0.0.17) (2.8.1)\n",
      "Requirement already satisfied: cycler>=0.10 in /home/paninit/anaconda3/lib/python3.7/site-packages (from matplotlib==3.3.2->pycomp==0.0.17) (0.10.0)\n",
      "Requirement already satisfied: kiwisolver>=1.0.1 in /home/paninit/anaconda3/lib/python3.7/site-packages (from matplotlib==3.3.2->pycomp==0.0.17) (1.2.0)\n",
      "Requirement already satisfied: pyparsing!=2.0.4,!=2.1.2,!=2.1.6,>=2.0.3 in /home/paninit/anaconda3/lib/python3.7/site-packages (from matplotlib==3.3.2->pycomp==0.0.17) (2.4.7)\n",
      "Requirement already satisfied: pillow>=6.2.0 in /home/paninit/anaconda3/lib/python3.7/site-packages (from matplotlib==3.3.2->pycomp==0.0.17) (7.2.0)\n",
      "Requirement already satisfied: certifi>=2020.06.20 in /home/paninit/anaconda3/lib/python3.7/site-packages (from matplotlib==3.3.2->pycomp==0.0.17) (2020.6.20)\n",
      "Requirement already satisfied: threadpoolctl>=2.0.0 in /home/paninit/anaconda3/lib/python3.7/site-packages (from scikit-learn==0.23.2->pycomp==0.0.17) (2.1.0)\n",
      "Requirement already satisfied: pytz>=2017.2 in /home/paninit/anaconda3/lib/python3.7/site-packages (from pandas==1.1.3->pycomp==0.0.17) (2020.1)\n",
      "Requirement already satisfied: llvmlite<0.35,>=0.34.0.dev0 in /home/paninit/anaconda3/lib/python3.7/site-packages (from numba->shap==0.37.0->pycomp==0.0.17) (0.34.0)\n",
      "Requirement already satisfied: setuptools in /home/paninit/anaconda3/lib/python3.7/site-packages (from numba->shap==0.37.0->pycomp==0.0.17) (49.6.0.post20200925)\n",
      "Requirement already satisfied: six>=1.5 in /home/paninit/anaconda3/lib/python3.7/site-packages (from python-dateutil>=2.1->matplotlib==3.3.2->pycomp==0.0.17) (1.15.0)\n"
     ]
    }
   ],
   "source": [
    "!pip install \"../../dist/pycomp-0.0.17-py3-none-any.whl\""
   ]
  },
  {
   "cell_type": "code",
   "execution_count": 2,
   "metadata": {
    "ExecuteTime": {
     "end_time": "2020-11-24T21:20:38.381154Z",
     "start_time": "2020-11-24T21:20:37.699743Z"
    }
   },
   "outputs": [],
   "source": [
    "import matplotlib.pyplot as plt\n",
    "import seaborn as sns\n",
    "from pycomp.viz.formatador import *\n",
    "import pandas as pd\n",
    "import os\n",
    "import numpy as np"
   ]
  },
  {
   "cell_type": "code",
   "execution_count": 3,
   "metadata": {
    "ExecuteTime": {
     "end_time": "2020-11-24T21:20:38.385426Z",
     "start_time": "2020-11-24T21:20:38.382823Z"
    }
   },
   "outputs": [],
   "source": [
    "import matplotlib"
   ]
  },
  {
   "cell_type": "code",
   "execution_count": 4,
   "metadata": {
    "ExecuteTime": {
     "end_time": "2020-11-24T21:20:38.395378Z",
     "start_time": "2020-11-24T21:20:38.387306Z"
    }
   },
   "outputs": [
    {
     "data": {
      "text/plain": [
       "matplotlib.patches.Patch"
      ]
     },
     "execution_count": 4,
     "metadata": {},
     "output_type": "execute_result"
    }
   ],
   "source": [
    "matplotlib.patches.Patch"
   ]
  },
  {
   "cell_type": "code",
   "execution_count": 5,
   "metadata": {
    "ExecuteTime": {
     "end_time": "2020-11-24T21:20:38.403337Z",
     "start_time": "2020-11-24T21:20:38.396657Z"
    }
   },
   "outputs": [
    {
     "data": {
      "text/plain": [
       "'3.3.2'"
      ]
     },
     "execution_count": 5,
     "metadata": {},
     "output_type": "execute_result"
    }
   ],
   "source": [
    "matplotlib.__version__"
   ]
  },
  {
   "cell_type": "code",
   "execution_count": 6,
   "metadata": {
    "ExecuteTime": {
     "end_time": "2020-11-24T21:20:38.407362Z",
     "start_time": "2020-11-24T21:20:38.404792Z"
    }
   },
   "outputs": [],
   "source": [
    "# AnnotateBars class (referência na classe)\n",
    "from dataclasses import dataclass\n",
    "from typing import *\n",
    "import matplotlib\n"
   ]
  },
  {
   "cell_type": "code",
   "execution_count": 7,
   "metadata": {
    "ExecuteTime": {
     "end_time": "2020-11-24T21:20:38.417308Z",
     "start_time": "2020-11-24T21:20:38.410872Z"
    }
   },
   "outputs": [],
   "source": [
    "Patch = matplotlib.patches.Patch\n",
    "PosVal = Tuple[float, Tuple[float, float]]\n",
    "Axis = matplotlib.axes.Axes\n",
    "PosValFunc = Callable[[Patch], PosVal]\n"
   ]
  },
  {
   "cell_type": "code",
   "execution_count": 8,
   "metadata": {
    "ExecuteTime": {
     "end_time": "2020-11-24T21:20:38.425701Z",
     "start_time": "2020-11-24T21:20:38.420569Z"
    }
   },
   "outputs": [],
   "source": [
    "# Definindo funções úteis para plotagem dos rótulos no gráfico\n",
    "def make_autopct(values):\n",
    "    \"\"\"\n",
    "    Função para configuração de rótulos em gráficos de rosca\n",
    "\n",
    "    Parâmetros\n",
    "    ----------\n",
    "    :param values: valores atrelados ao rótulo [type: np.array]\n",
    "\n",
    "    Retorno\n",
    "    -------\n",
    "    :return my_autopct: string formatada para plotagem dos rótulos\n",
    "    \"\"\"\n",
    "\n",
    "    def my_autopct(pct):\n",
    "        total = sum(values)\n",
    "        val = int(round(pct * total / 100.0))\n",
    "\n",
    "        return '{p:.1f}%\\n({v:d})'.format(p=pct, v=val)\n",
    "\n",
    "    return my_autopct"
   ]
  },
  {
   "cell_type": "code",
   "execution_count": 9,
   "metadata": {
    "ExecuteTime": {
     "end_time": "2020-11-24T21:20:38.467838Z",
     "start_time": "2020-11-24T21:20:38.428143Z"
    }
   },
   "outputs": [
    {
     "name": "stdout",
     "output_type": "stream",
     "text": [
      "Dimensões da base de treino: (891, 12)\n"
     ]
    },
    {
     "data": {
      "text/html": [
       "<div>\n",
       "<style scoped>\n",
       "    .dataframe tbody tr th:only-of-type {\n",
       "        vertical-align: middle;\n",
       "    }\n",
       "\n",
       "    .dataframe tbody tr th {\n",
       "        vertical-align: top;\n",
       "    }\n",
       "\n",
       "    .dataframe thead th {\n",
       "        text-align: right;\n",
       "    }\n",
       "</style>\n",
       "<table border=\"1\" class=\"dataframe\">\n",
       "  <thead>\n",
       "    <tr style=\"text-align: right;\">\n",
       "      <th></th>\n",
       "      <th>PassengerId</th>\n",
       "      <th>Survived</th>\n",
       "      <th>Pclass</th>\n",
       "      <th>Name</th>\n",
       "      <th>Sex</th>\n",
       "      <th>Age</th>\n",
       "      <th>SibSp</th>\n",
       "      <th>Parch</th>\n",
       "      <th>Ticket</th>\n",
       "      <th>Fare</th>\n",
       "      <th>Cabin</th>\n",
       "      <th>Embarked</th>\n",
       "    </tr>\n",
       "  </thead>\n",
       "  <tbody>\n",
       "    <tr>\n",
       "      <th>0</th>\n",
       "      <td>1</td>\n",
       "      <td>0</td>\n",
       "      <td>3</td>\n",
       "      <td>Braund, Mr. Owen Harris</td>\n",
       "      <td>male</td>\n",
       "      <td>22.0</td>\n",
       "      <td>1</td>\n",
       "      <td>0</td>\n",
       "      <td>A/5 21171</td>\n",
       "      <td>7.2500</td>\n",
       "      <td>NaN</td>\n",
       "      <td>S</td>\n",
       "    </tr>\n",
       "    <tr>\n",
       "      <th>1</th>\n",
       "      <td>2</td>\n",
       "      <td>1</td>\n",
       "      <td>1</td>\n",
       "      <td>Cumings, Mrs. John Bradley (Florence Briggs Th...</td>\n",
       "      <td>female</td>\n",
       "      <td>38.0</td>\n",
       "      <td>1</td>\n",
       "      <td>0</td>\n",
       "      <td>PC 17599</td>\n",
       "      <td>71.2833</td>\n",
       "      <td>C85</td>\n",
       "      <td>C</td>\n",
       "    </tr>\n",
       "    <tr>\n",
       "      <th>2</th>\n",
       "      <td>3</td>\n",
       "      <td>1</td>\n",
       "      <td>3</td>\n",
       "      <td>Heikkinen, Miss. Laina</td>\n",
       "      <td>female</td>\n",
       "      <td>26.0</td>\n",
       "      <td>0</td>\n",
       "      <td>0</td>\n",
       "      <td>STON/O2. 3101282</td>\n",
       "      <td>7.9250</td>\n",
       "      <td>NaN</td>\n",
       "      <td>S</td>\n",
       "    </tr>\n",
       "    <tr>\n",
       "      <th>3</th>\n",
       "      <td>4</td>\n",
       "      <td>1</td>\n",
       "      <td>1</td>\n",
       "      <td>Futrelle, Mrs. Jacques Heath (Lily May Peel)</td>\n",
       "      <td>female</td>\n",
       "      <td>35.0</td>\n",
       "      <td>1</td>\n",
       "      <td>0</td>\n",
       "      <td>113803</td>\n",
       "      <td>53.1000</td>\n",
       "      <td>C123</td>\n",
       "      <td>S</td>\n",
       "    </tr>\n",
       "    <tr>\n",
       "      <th>4</th>\n",
       "      <td>5</td>\n",
       "      <td>0</td>\n",
       "      <td>3</td>\n",
       "      <td>Allen, Mr. William Henry</td>\n",
       "      <td>male</td>\n",
       "      <td>35.0</td>\n",
       "      <td>0</td>\n",
       "      <td>0</td>\n",
       "      <td>373450</td>\n",
       "      <td>8.0500</td>\n",
       "      <td>NaN</td>\n",
       "      <td>S</td>\n",
       "    </tr>\n",
       "  </tbody>\n",
       "</table>\n",
       "</div>"
      ],
      "text/plain": [
       "   PassengerId  Survived  Pclass  \\\n",
       "0            1         0       3   \n",
       "1            2         1       1   \n",
       "2            3         1       3   \n",
       "3            4         1       1   \n",
       "4            5         0       3   \n",
       "\n",
       "                                                Name     Sex   Age  SibSp  \\\n",
       "0                            Braund, Mr. Owen Harris    male  22.0      1   \n",
       "1  Cumings, Mrs. John Bradley (Florence Briggs Th...  female  38.0      1   \n",
       "2                             Heikkinen, Miss. Laina  female  26.0      0   \n",
       "3       Futrelle, Mrs. Jacques Heath (Lily May Peel)  female  35.0      1   \n",
       "4                           Allen, Mr. William Henry    male  35.0      0   \n",
       "\n",
       "   Parch            Ticket     Fare Cabin Embarked  \n",
       "0      0         A/5 21171   7.2500   NaN        S  \n",
       "1      0          PC 17599  71.2833   C85        C  \n",
       "2      0  STON/O2. 3101282   7.9250   NaN        S  \n",
       "3      0            113803  53.1000  C123        S  \n",
       "4      0            373450   8.0500   NaN        S  "
      ]
     },
     "execution_count": 9,
     "metadata": {},
     "output_type": "execute_result"
    }
   ],
   "source": [
    "# Definindo variáveis do projeto\n",
    "DATA_PATH = 'titanic_data/'\n",
    "TRAIN_FILENAME = 'train.csv'\n",
    "TEST_FILENAME = 'test.csv'\n",
    "\n",
    "# Lendo base de treino e verificando conteúdo\n",
    "df = pd.read_csv(os.path.join(DATA_PATH, TRAIN_FILENAME))\n",
    "print(f'Dimensões da base de treino: {df.shape}')\n",
    "df.head()"
   ]
  },
  {
   "cell_type": "code",
   "execution_count": 10,
   "metadata": {
    "ExecuteTime": {
     "end_time": "2020-11-24T21:20:38.481707Z",
     "start_time": "2020-11-24T21:20:38.470009Z"
    }
   },
   "outputs": [],
   "source": [
    "def plot_donut_chart(df, col, figsize=(8, 8), circle_radius=0.8, **kwargs):\n",
    "    \"\"\"\n",
    "    Função responsável por plotar um gráfico de rosca customizado para uma determinada coluna da base\n",
    "    \n",
    "    Parâmetros\n",
    "    ----------\n",
    "    :param df: base de dados utilizada na plotagem [type: pd.DataFrame]\n",
    "    :param col: nome da coluna a ser analisada [type: string]\n",
    "    :param figsize: dimensões da figura de plotagem [type: tuple, default=(8, 8)]\n",
    "    :param circle_radius: raio do círculo central do gráfico [type: float, default=0.8]\n",
    "    :param **kwargs: parâmetros adicionais da função\n",
    "        :arg \n",
    "    \n",
    "    \n",
    "    Retorno\n",
    "    -------\n",
    "    Essa função não retorna nenhum parâmetro além da plotagem customizada do gráfico de rosca\n",
    "    \"\"\"\n",
    "    \n",
    "    # Retorno dos valores e definição da figura\n",
    "    try:\n",
    "        values = df[col].value_counts().values\n",
    "    except KeyError as e:\n",
    "        cat_cols = [col for col, dtype in df.dtypes.items() if dtype == 'object']\n",
    "        print(f'Coluna \"{col}\" não presente na base. Colunas categóricas disponíveis: {cat_cols}')\n",
    "        return\n",
    "    \n",
    "    # Rótulos de medida para a plotagem\n",
    "    label_names = kwargs['label_names'] if 'label_names' in kwargs else df[col].value_counts().index\n",
    "    \n",
    "    # Verificando parâmetro de supressão de alguma categoria da análise\n",
    "    if 'flag_ruido' in kwargs and kwargs['flag_ruido'] > 0:\n",
    "        flag_ruido = kwargs['flag_ruido']\n",
    "        values = values[:-flag_ruido]\n",
    "        label_names = label_names[:-flag_ruido]\n",
    "        \n",
    "    # Parâmetros de customização do gráfico de pizza\n",
    "    explode = kwargs['explode'] if 'explode' in kwargs else (0, 0)\n",
    "    shadow = kwargs['shadow'] if 'shadow' in kwargs else False\n",
    "    autotexts_size = kwargs['autotexts_size'] if 'autotexts_size' in kwargs else 14\n",
    "    texts_size = kwargs['texts_size'] if 'texts_size' in kwargs else 14\n",
    "        \n",
    "    # Cores para a plotagem\n",
    "    color_list = ['darkslateblue', 'crimson', 'lightseagreen', 'lightskyblue', 'lightcoral', 'silver']\n",
    "    colors = kwargs['colors'] if 'colors' in kwargs else color_list[:len(label_names)]\n",
    "\n",
    "    # Plotando gráfico de rosca\n",
    "    center_circle = plt.Circle((0, 0), circle_radius, color='white')\n",
    "    fig, ax = plt.subplots(figsize=figsize)\n",
    "    ax.pie(values, labels=label_names, colors=colors, autopct=make_autopct(values))\n",
    "    ax.add_artist(center_circle)\n",
    "\n",
    "    # Configurando argumentos do texto central\n",
    "    text = kwargs['text'] if 'text' in kwargs else f'Total: \\n{sum(values)}'\n",
    "    text_kwargs = dict(size=20, fontweight='bold', va='center')\n",
    "    ax.text(0, 0, text, ha='center', **text_kwargs)\n",
    "    \n",
    "    # Definindo título\n",
    "    title = kwargs['title'] if 'title' in kwargs else f'Gráfico de Rosca para a Variável ${col}$'\n",
    "    ax.set_title(title, size=15, color='dimgrey')"
   ]
  },
  {
   "cell_type": "code",
   "execution_count": 11,
   "metadata": {
    "ExecuteTime": {
     "end_time": "2020-11-24T21:20:38.843338Z",
     "start_time": "2020-11-24T21:20:38.483718Z"
    }
   },
   "outputs": [
    {
     "data": {
      "image/png": "[encoded data removed]",
      "text/plain": [
       "<Figure size 576x576 with 1 Axes>"
      ]
     },
     "metadata": {},
     "output_type": "display_data"
    }
   ],
   "source": [
    "plot_donut_chart(df=df, col='Embarked')"
   ]
  },
  {
   "cell_type": "code",
   "execution_count": 58,
   "metadata": {
    "ExecuteTime": {
     "end_time": "2020-11-24T21:56:52.813386Z",
     "start_time": "2020-11-24T21:56:52.787109Z"
    }
   },
   "outputs": [],
   "source": [
    "def plot_pie_chart(df, col, figsize=(8, 8), **kwargs):\n",
    "    \"\"\"\n",
    "    Função responsável por plotar um gráfico de pizza customizado para uma determinada coluna da base\n",
    "    \n",
    "    Parâmetros\n",
    "    ----------\n",
    "    :param df: base de dados utilizada na plotagem [type: pd.DataFrame]\n",
    "    :param col: nome da coluna a ser analisada [type: string]\n",
    "    :param figsize: dimensões da figura de plotagem [type: tuple, default=(8, 8)]\n",
    "    :param **kwargs: parâmetros adicionais da função\n",
    "        :arg label_names: lista com labels personalizados para os rótulos [type: list, default=value_counts().index]\n",
    "        :arg flag_ruido: índice de filtro para eliminar as n últimas entradas [type: float, default=None]\n",
    "        :arg colors: lista de cores para aplicação na plotagem [type: list]\n",
    "        :arg title: título do gráfico [type: string, default=f'Gráfico de Rosca para a Variável ${col}$']\n",
    "        :arg autotexts_size: dimensão do rótulo do valor numérico do gráfico [type: int, default=14]\n",
    "        :arg autotexts_color: cor do rótulo do valor numérico do gráfico [type: int, default='white']\n",
    "        :arg texts_size: dimensão do rótulo do label [type: int, default=14]\n",
    "        :arg texts_color: cor do rótulo do label [type: int, default='black']\n",
    "        :arg save: flag indicativo de salvamento da imagem gerada [type: bool, default=None]\n",
    "        :arg output_path: caminho de output da imagem a ser salva [type: string, default='output/']\n",
    "        :arg img_name: nome do arquivo .png a ser gerado [type: string, default=f'{col}_donutchart.png']\n",
    "    \n",
    "    \n",
    "    Retorno\n",
    "    -------\n",
    "    Essa função não retorna nenhum parâmetro além da plotagem customizada do gráfico de pizaa\n",
    "\n",
    "    Aplicação\n",
    "    ---------\n",
    "    plot_pie_chart(df=df, col='categorical_column', label_names=['Classe 1', 'Classe 2'])\n",
    "    \"\"\"\n",
    "    \n",
    "    # Retorno dos valores e definição da figura\n",
    "    try:\n",
    "        values = df[col].value_counts().values\n",
    "    except KeyError as e:\n",
    "        cat_cols = [col for col, dtype in df.dtypes.items() if dtype == 'object']\n",
    "        print(f'Coluna \"{col}\" não presente na base. Colunas categóricas disponíveis: {cat_cols}')\n",
    "        return\n",
    "    \n",
    "    # Rótulos de medida para a plotagem\n",
    "    label_names = kwargs['label_names'] if 'label_names' in kwargs else df[col].value_counts().index\n",
    "    \n",
    "    # Verificando parâmetro de supressão de alguma categoria da análise\n",
    "    if 'flag_ruido' in kwargs and kwargs['flag_ruido'] > 0:\n",
    "        flag_ruido = kwargs['flag_ruido']\n",
    "        values = values[:-flag_ruido]\n",
    "        label_names = label_names[:-flag_ruido]\n",
    "    \n",
    "    # Cores para a plotagem\n",
    "    color_list = ['darkslateblue', 'crimson', 'lightseagreen', 'lightskyblue', 'lightcoral', 'silver']\n",
    "    colors = kwargs['colors'] if 'colors' in kwargs else color_list[:len(label_names)]\n",
    "\n",
    "    # Parâmetros de plotagem do gráfico de pizza\n",
    "    explode = kwargs['explode'] if 'explode' in kwargs else (0,) * len(label_names)\n",
    "    shadow = kwargs['shadow'] if 'shadow' in kwargs else False\n",
    "\n",
    "    # Plotando gráfico de pizza\n",
    "    fig, ax = plt.subplots(figsize=figsize)\n",
    "    wedges, texts, autotexts = ax.pie(values, labels=label_names, colors=colors, autopct=make_autopct(values), \n",
    "                                      startangle=90, explode=explode, shadow=shadow)\n",
    "    \n",
    "    # Definindo título\n",
    "    title = kwargs['title'] if 'title' in kwargs else f'Gráfico de Rosca para a Variável ${col}$'\n",
    "    ax.set_title(title, size=16, color='dimgrey')\n",
    "\n",
    "    # Parâmetros de customização do gráfico gerado\n",
    "    autotexts_size = kwargs['autotexts_size'] if 'autotexts_size' in kwargs else 14\n",
    "    autotexts_color = kwargs['autotexts_color'] if 'autotexts_color' in kwargs else 'white'\n",
    "    texts_size = kwargs['texts_size'] if 'texts_size' in kwargs else 14\n",
    "    texts_color = kwargs['texts_color'] if 'texts_stexts_colorize' in kwargs else 'black'\n",
    "\n",
    "    # Customizando rótulos\n",
    "    plt.setp(autotexts, size=autotexts_size, color=autotexts_color)\n",
    "    plt.setp(texts, size=texts_size, color=texts_color)\n",
    "\n",
    "    # Verificando salvamento da imagem\n",
    "    if 'save' in kwargs and bool(kwargs['save']):\n",
    "\n",
    "        # Retornando diretório e nome da imagem\n",
    "        output_path = kwargs['output_path'] if 'output_path' in kwargs else 'output/'\n",
    "        img_name = kwargs['img_name'] if 'img_name' in kwargs else f'{col}_piechart.png'\n",
    "        save_fig(fig=fig, output_path=output_path, img_name=img_name)"
   ]
  },
  {
   "cell_type": "code",
   "execution_count": 59,
   "metadata": {
    "ExecuteTime": {
     "end_time": "2020-11-24T21:56:53.799580Z",
     "start_time": "2020-11-24T21:56:53.610276Z"
    }
   },
   "outputs": [
    {
     "data": {
      "image/png": "[encoded data removed]",
      "text/plain": [
       "<Figure size 576x576 with 1 Axes>"
      ]
     },
     "metadata": {},
     "output_type": "display_data"
    }
   ],
   "source": [
    "plot_pie_chart(df=df, col='Survived', label_names=['Vítimas', 'Sobreviventes'], explode=(0.02, 0),\n",
    "               shadow=False)"
   ]
  },
  {
   "cell_type": "code",
   "execution_count": null,
   "metadata": {},
   "outputs": [],
   "source": [
    "def plot_pie_chart(df, col, figsize=(8, 8), **kwargs):\n",
    "    \"\"\"\n",
    "    Função responsável por plotar um gráfico de pizza customizado para uma determinada coluna da base\n",
    "    \n",
    "    Parâmetros\n",
    "    ----------\n",
    "    :param df: base de dados utilizada na plotagem [type: pd.DataFrame]\n",
    "    :param col: nome da coluna a ser analisada [type: string]\n",
    "    :param figsize: dimensões da figura de plotagem [type: tuple, default=(8, 8)]\n",
    "    :param **kwargs: parâmetros adicionais da função\n",
    "        :arg label_names: lista com labels personalizados para os rótulos [type: list, default=value_counts().index]\n",
    "        :arg flag_ruido: índice de filtro para eliminar as n últimas entradas [type: float, default=None]\n",
    "        :arg colors: lista de cores para aplicação na plotagem [type: list]\n",
    "        :arg title: título do gráfico [type: string, default=f'Gráfico de Rosca para a Variável ${col}$']\n",
    "        :arg autotexts_size: dimensão do rótulo do valor numérico do gráfico [type: int, default=14]\n",
    "        :arg autotexts_color: cor do rótulo do valor numérico do gráfico [type: int, default='white']\n",
    "        :arg texts_size: dimensão do rótulo do label [type: int, default=14]\n",
    "        :arg texts_color: cor do rótulo do label [type: int, default='black']\n",
    "        :arg save: flag indicativo de salvamento da imagem gerada [type: bool, default=None]\n",
    "        :arg output_path: caminho de output da imagem a ser salva [type: string, default='output/']\n",
    "        :arg img_name: nome do arquivo .png a ser gerado [type: string, default=f'{col}_donutchart.png']\n",
    "    \n",
    "    \n",
    "    Retorno\n",
    "    -------\n",
    "    Essa função não retorna nenhum parâmetro além da plotagem customizada do gráfico de pizaa\n",
    "\n",
    "    Aplicação\n",
    "    ---------\n",
    "    plot_pie_chart(df=df, col='categorical_column', label_names=['Classe 1', 'Classe 2'])\n",
    "    \"\"\"\n",
    "    \n",
    "    # Agrupando dados\n",
    "    group_class = df.groupby([col1, col2]).count()\n",
    "    \n",
    "    # Retorno dos valores e definição da figura\n",
    "    try:\n",
    "        values = df[col].value_counts().values\n",
    "    except KeyError as e:\n",
    "        cat_cols = [col for col, dtype in df.dtypes.items() if dtype == 'object']\n",
    "        print(f'Coluna \"{col}\" não presente na base. Colunas categóricas disponíveis: {cat_cols}')\n",
    "        return\n",
    "    \n",
    "    # Rótulos de medida para a plotagem\n",
    "    label_names = kwargs['label_names'] if 'label_names' in kwargs else df[col].value_counts().index\n",
    "    \n",
    "    # Verificando parâmetro de supressão de alguma categoria da análise\n",
    "    if 'flag_ruido' in kwargs and kwargs['flag_ruido'] > 0:\n",
    "        flag_ruido = kwargs['flag_ruido']\n",
    "        values = values[:-flag_ruido]\n",
    "        label_names = label_names[:-flag_ruido]\n",
    "    \n",
    "    # Cores para a plotagem\n",
    "    color_list = ['darkslateblue', 'crimson', 'lightseagreen', 'lightskyblue', 'lightcoral', 'silver']\n",
    "    colors = kwargs['colors'] if 'colors' in kwargs else color_list[:len(label_names)]\n",
    "\n",
    "    # Parâmetros de plotagem do gráfico de pizza\n",
    "    explode = kwargs['explode'] if 'explode' in kwargs else (0, 0)\n",
    "    shadow = kwargs['shadow'] if 'shadow' in kwargs else False\n",
    "\n",
    "    # Plotando gráfico de pizza\n",
    "    fig, ax = plt.subplots(figsize=figsize)\n",
    "    wedges, texts, autotexts = ax.pie(values, labels=label_names, colors=colors, autopct=make_autopct(values), \n",
    "                                      startangle=90, explode=explode, shadow=shadow)\n",
    "    \n",
    "    # Definindo título\n",
    "    title = kwargs['title'] if 'title' in kwargs else f'Gráfico de Rosca para a Variável ${col}$'\n",
    "    ax.set_title(title, size=16, color='dimgrey')\n",
    "\n",
    "    # Parâmetros de customização do gráfico gerado\n",
    "    autotexts_size = kwargs['autotexts_size'] if 'autotexts_size' in kwargs else 14\n",
    "    autotexts_color = kwargs['autotexts_color'] if 'autotexts_color' in kwargs else 'white'\n",
    "    texts_size = kwargs['texts_size'] if 'texts_size' in kwargs else 14\n",
    "    texts_color = kwargs['texts_color'] if 'texts_stexts_colorize' in kwargs else 'black'\n",
    "\n",
    "    # Customizando rótulos\n",
    "    plt.setp(autotexts, size=autotexts_size, color=autotexts_color)\n",
    "    plt.setp(texts, size=texts_size, color=texts_color)\n",
    "\n",
    "    # Verificando salvamento da imagem\n",
    "    if 'save' in kwargs and bool(kwargs['save']):\n",
    "\n",
    "        # Retornando diretório e nome da imagem\n",
    "        output_path = kwargs['output_path'] if 'output_path' in kwargs else 'output/'\n",
    "        img_name = kwargs['img_name'] if 'img_name' in kwargs else f'{col}_piechart.png'\n",
    "        save_fig(fig=fig, output_path=output_path, img_name=img_name)"
   ]
  },
  {
   "cell_type": "code",
   "execution_count": 71,
   "metadata": {
    "ExecuteTime": {
     "end_time": "2020-11-24T22:25:17.853786Z",
     "start_time": "2020-11-24T22:25:17.827075Z"
    }
   },
   "outputs": [],
   "source": [
    "col1 = 'Survived'\n",
    "col2 = 'Pclass'\n",
    "first_layer_donut = df.groupby(col1).count().iloc[:, 0]\n",
    "values = first_layer_donut.values"
   ]
  },
  {
   "cell_type": "code",
   "execution_count": 72,
   "metadata": {
    "ExecuteTime": {
     "end_time": "2020-11-24T22:25:23.002160Z",
     "start_time": "2020-11-24T22:25:22.975775Z"
    }
   },
   "outputs": [
    {
     "data": {
      "text/plain": [
       "Survived\n",
       "0    549\n",
       "1    342\n",
       "Name: PassengerId, dtype: int64"
      ]
     },
     "execution_count": 72,
     "metadata": {},
     "output_type": "execute_result"
    }
   ],
   "source": [
    "first_layer_donut"
   ]
  },
  {
   "cell_type": "code",
   "execution_count": 68,
   "metadata": {
    "ExecuteTime": {
     "end_time": "2020-11-24T22:23:51.732334Z",
     "start_time": "2020-11-24T22:23:51.706262Z"
    }
   },
   "outputs": [
    {
     "data": {
      "text/plain": [
       "MultiIndex([(0, 1),\n",
       "            (0, 2),\n",
       "            (0, 3),\n",
       "            (1, 1),\n",
       "            (1, 2),\n",
       "            (1, 3)],\n",
       "           names=['Survived', 'Pclass'])"
      ]
     },
     "execution_count": 68,
     "metadata": {},
     "output_type": "execute_result"
    }
   ],
   "source": [
    "group_donut.index"
   ]
  },
  {
   "cell_type": "code",
   "execution_count": 74,
   "metadata": {
    "ExecuteTime": {
     "end_time": "2020-11-24T22:25:39.304512Z",
     "start_time": "2020-11-24T22:25:39.119718Z"
    }
   },
   "outputs": [
    {
     "data": {
      "text/plain": [
       "<matplotlib.patches.Circle at 0x7f8d176485d0>"
      ]
     },
     "execution_count": 74,
     "metadata": {},
     "output_type": "execute_result"
    },
    {
     "data": {
      "image/png": "[encoded data removed]",
      "text/plain": [
       "<Figure size 576x576 with 1 Axes>"
      ]
     },
     "metadata": {},
     "output_type": "display_data"
    }
   ],
   "source": [
    "# Plotando gráfico de rosca\n",
    "center_circle = plt.Circle((0, 0), 0.8, color='white')\n",
    "fig, ax = plt.subplots(figsize=(8, 8))\n",
    "ax.pie(values, autopct=make_autopct(values))\n",
    "ax.add_artist(center_circle)"
   ]
  },
  {
   "cell_type": "code",
   "execution_count": 75,
   "metadata": {
    "ExecuteTime": {
     "end_time": "2020-11-24T22:28:35.866578Z",
     "start_time": "2020-11-24T22:28:35.806085Z"
    }
   },
   "outputs": [],
   "source": [
    "# Número de sobreviventes e vítimas\n",
    "total_surv = df.groupby('Survived').count()['Name']\n",
    "surv_gender = df.groupby(['Sex', 'Survived']).count()['Name']\n",
    "prop_surv_f = surv_gender['female'] \n",
    "prop_surv_m = surv_gender['male'] \n",
    "\n",
    "# Preparando dados para plotagem\n",
    "labels = ['Sobreviventes', 'Vítimas']\n",
    "sizes = [total_surv[1], total_surv[0]]\n",
    "labels_gender = ['Masculino', 'Feminino'] * 2\n",
    "sizes_gender = [prop_surv_m[1], prop_surv_f[1], prop_surv_m[0], prop_surv_f[0]]\n",
    "colors = ['lightskyblue', 'lightcoral']\n",
    "colors_gender = ['blue', 'red']\n",
    "explode = (0.05, 0)\n",
    "explode_gender = (0.05, 0, 0.05, 0)"
   ]
  },
  {
   "cell_type": "code",
   "execution_count": 76,
   "metadata": {
    "ExecuteTime": {
     "end_time": "2020-11-24T22:28:40.105059Z",
     "start_time": "2020-11-24T22:28:40.086385Z"
    }
   },
   "outputs": [
    {
     "data": {
      "text/plain": [
       "Survived\n",
       "0    549\n",
       "1    342\n",
       "Name: Name, dtype: int64"
      ]
     },
     "execution_count": 76,
     "metadata": {},
     "output_type": "execute_result"
    }
   ],
   "source": [
    "total_surv"
   ]
  },
  {
   "cell_type": "code",
   "execution_count": 77,
   "metadata": {
    "ExecuteTime": {
     "end_time": "2020-11-24T22:28:43.573693Z",
     "start_time": "2020-11-24T22:28:43.529818Z"
    }
   },
   "outputs": [
    {
     "data": {
      "text/plain": [
       "Sex     Survived\n",
       "female  0            81\n",
       "        1           233\n",
       "male    0           468\n",
       "        1           109\n",
       "Name: Name, dtype: int64"
      ]
     },
     "execution_count": 77,
     "metadata": {},
     "output_type": "execute_result"
    }
   ],
   "source": [
    "surv_gender"
   ]
  },
  {
   "cell_type": "code",
   "execution_count": 78,
   "metadata": {
    "ExecuteTime": {
     "end_time": "2020-11-24T22:28:47.977460Z",
     "start_time": "2020-11-24T22:28:47.938118Z"
    }
   },
   "outputs": [
    {
     "data": {
      "text/plain": [
       "Survived\n",
       "0     81\n",
       "1    233\n",
       "Name: Name, dtype: int64"
      ]
     },
     "execution_count": 78,
     "metadata": {},
     "output_type": "execute_result"
    }
   ],
   "source": [
    "prop_surv_f"
   ]
  },
  {
   "cell_type": "code",
   "execution_count": 79,
   "metadata": {
    "ExecuteTime": {
     "end_time": "2020-11-24T22:28:51.904855Z",
     "start_time": "2020-11-24T22:28:51.876395Z"
    }
   },
   "outputs": [
    {
     "data": {
      "text/plain": [
       "Survived\n",
       "0    468\n",
       "1    109\n",
       "Name: Name, dtype: int64"
      ]
     },
     "execution_count": 79,
     "metadata": {},
     "output_type": "execute_result"
    }
   ],
   "source": [
    "prop_surv_m"
   ]
  },
  {
   "cell_type": "code",
   "execution_count": 80,
   "metadata": {
    "ExecuteTime": {
     "end_time": "2020-11-24T22:29:16.183566Z",
     "start_time": "2020-11-24T22:29:16.158779Z"
    }
   },
   "outputs": [
    {
     "data": {
      "text/plain": [
       "[109, 233, 468, 81]"
      ]
     },
     "execution_count": 80,
     "metadata": {},
     "output_type": "execute_result"
    }
   ],
   "source": [
    "sizes_gender"
   ]
  },
  {
   "cell_type": "code",
   "execution_count": 100,
   "metadata": {
    "ExecuteTime": {
     "end_time": "2020-11-24T22:38:07.450652Z",
     "start_time": "2020-11-24T22:38:07.426660Z"
    }
   },
   "outputs": [
    {
     "name": "stdout",
     "output_type": "stream",
     "text": [
      "['female', 0] 81\n",
      "['female', 1] 233\n",
      "['male', 0] 468\n",
      "['male', 1] 109\n"
     ]
    },
    {
     "data": {
      "text/plain": [
       "[['female', 0, 81], ['female', 1, 233], ['male', 0, 468], ['male', 1, 109]]"
      ]
     },
     "execution_count": 100,
     "metadata": {},
     "output_type": "execute_result"
    }
   ],
   "source": [
    "custom_sizes = []\n",
    "for k, v in surv_gender.items():\n",
    "    print(list(k), v)\n",
    "    custom_sizes.append(list(k) + [v])\n",
    "custom_sizes"
   ]
  },
  {
   "cell_type": "code",
   "execution_count": 101,
   "metadata": {
    "ExecuteTime": {
     "end_time": "2020-11-24T22:38:57.135675Z",
     "start_time": "2020-11-24T22:38:57.115815Z"
    }
   },
   "outputs": [
    {
     "name": "stdout",
     "output_type": "stream",
     "text": [
      "0\n",
      "1\n",
      "2\n",
      "0\n",
      "1\n",
      "2\n",
      "0\n",
      "1\n",
      "2\n",
      "0\n",
      "1\n",
      "2\n"
     ]
    }
   ],
   "source": [
    "new = []\n",
    "for c in custom_sizes:\n",
    "    for e in c:\n",
    "        if c.index(e) == 0:\n",
    "            continue\n",
    "        else:\n",
    "            "
   ]
  },
  {
   "cell_type": "code",
   "execution_count": 83,
   "metadata": {
    "ExecuteTime": {
     "end_time": "2020-11-24T22:31:04.257353Z",
     "start_time": "2020-11-24T22:31:04.240149Z"
    }
   },
   "outputs": [
    {
     "data": {
      "text/plain": [
       "MultiIndex([('female', 0),\n",
       "            ('female', 1),\n",
       "            (  'male', 0),\n",
       "            (  'male', 1)],\n",
       "           names=['Sex', 'Survived'])"
      ]
     },
     "execution_count": 83,
     "metadata": {},
     "output_type": "execute_result"
    }
   ],
   "source": [
    "surv_gender.keys()"
   ]
  },
  {
   "cell_type": "code",
   "execution_count": 85,
   "metadata": {
    "ExecuteTime": {
     "end_time": "2020-11-24T22:32:15.358500Z",
     "start_time": "2020-11-24T22:32:15.338696Z"
    }
   },
   "outputs": [
    {
     "data": {
      "text/plain": [
       "<zip at 0x7f8d17588370>"
      ]
     },
     "execution_count": 85,
     "metadata": {},
     "output_type": "execute_result"
    }
   ],
   "source": [
    "surv_gender.items()"
   ]
  },
  {
   "cell_type": "code",
   "execution_count": null,
   "metadata": {},
   "outputs": [],
   "source": []
  }
 ],
 "metadata": {
  "kernelspec": {
   "display_name": "Python 3",
   "language": "python",
   "name": "python3"
  },
  "language_info": {
   "codemirror_mode": {
    "name": "ipython",
    "version": 3
   },
   "file_extension": ".py",
   "mimetype": "text/x-python",
   "name": "python",
   "nbconvert_exporter": "python",
   "pygments_lexer": "ipython3",
   "version": "3.7.6"
  },
  "toc": {
   "base_numbering": 1,
   "nav_menu": {},
   "number_sections": true,
   "sideBar": true,
   "skip_h1_title": false,
   "title_cell": "Table of Contents",
   "title_sidebar": "Contents",
   "toc_cell": true,
   "toc_position": {},
   "toc_section_display": true,
   "toc_window_display": false
  }
 },
 "nbformat": 4,
 "nbformat_minor": 4
}
