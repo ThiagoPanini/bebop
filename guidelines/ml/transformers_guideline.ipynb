{
 "cells": [
  {
   "cell_type": "markdown",
   "metadata": {
    "toc": true
   },
   "source": [
    "<h1>Table of Contents<span class=\"tocSkip\"></span></h1>\n",
    "<div class=\"toc\"><ul class=\"toc-item\"><li><span><a href=\"#Contexto:-Transformers\" data-toc-modified-id=\"Contexto:-Transformers-1\"><span class=\"toc-item-num\">1&nbsp;&nbsp;</span>Contexto: Transformers</a></span></li><li><span><a href=\"#Lendo-Base\" data-toc-modified-id=\"Lendo-Base-2\"><span class=\"toc-item-num\">2&nbsp;&nbsp;</span>Lendo Base</a></span></li><li><span><a href=\"#Data-Prep\" data-toc-modified-id=\"Data-Prep-3\"><span class=\"toc-item-num\">3&nbsp;&nbsp;</span>Data Prep</a></span><ul class=\"toc-item\"><li><span><a href=\"#Pycomp-Transformers\" data-toc-modified-id=\"Pycomp-Transformers-3.1\"><span class=\"toc-item-num\">3.1&nbsp;&nbsp;</span>Pycomp Transformers</a></span><ul class=\"toc-item\"><li><span><a href=\"#Padronização-com-FormataColunas()\" data-toc-modified-id=\"Padronização-com-FormataColunas()-3.1.1\"><span class=\"toc-item-num\">3.1.1&nbsp;&nbsp;</span>Padronização com FormataColunas()</a></span></li><li><span><a href=\"#Filtro-com-FiltraColunas()\" data-toc-modified-id=\"Filtro-com-FiltraColunas()-3.1.2\"><span class=\"toc-item-num\">3.1.2&nbsp;&nbsp;</span>Filtro com FiltraColunas()</a></span></li><li><span><a href=\"#Target-com-DefineTarget()\" data-toc-modified-id=\"Target-com-DefineTarget()-3.1.3\"><span class=\"toc-item-num\">3.1.3&nbsp;&nbsp;</span>Target com DefineTarget()</a></span></li><li><span><a href=\"#Duplicatas-com-EliminaDuplicatas()\" data-toc-modified-id=\"Duplicatas-com-EliminaDuplicatas()-3.1.4\"><span class=\"toc-item-num\">3.1.4&nbsp;&nbsp;</span>Duplicatas com EliminaDuplicatas()</a></span></li></ul></li><li><span><a href=\"#Construindo-Pipelines\" data-toc-modified-id=\"Construindo-Pipelines-3.2\"><span class=\"toc-item-num\">3.2&nbsp;&nbsp;</span>Construindo Pipelines</a></span><ul class=\"toc-item\"><li><span><a href=\"#Pipeline-Inicial\" data-toc-modified-id=\"Pipeline-Inicial-3.2.1\"><span class=\"toc-item-num\">3.2.1&nbsp;&nbsp;</span>Pipeline Inicial</a></span></li><li><span><a href=\"#Pipeline-Numérico\" data-toc-modified-id=\"Pipeline-Numérico-3.2.2\"><span class=\"toc-item-num\">3.2.2&nbsp;&nbsp;</span>Pipeline Numérico</a></span></li><li><span><a href=\"#Pipeline-Categórico\" data-toc-modified-id=\"Pipeline-Categórico-3.2.3\"><span class=\"toc-item-num\">3.2.3&nbsp;&nbsp;</span>Pipeline Categórico</a></span></li><li><span><a href=\"#Pipeline-Completo\" data-toc-modified-id=\"Pipeline-Completo-3.2.4\"><span class=\"toc-item-num\">3.2.4&nbsp;&nbsp;</span>Pipeline Completo</a></span></li></ul></li></ul></li><li><span><a href=\"#Conclusão\" data-toc-modified-id=\"Conclusão-4\"><span class=\"toc-item-num\">4&nbsp;&nbsp;</span>Conclusão</a></span></li></ul></div>"
   ]
  },
  {
   "cell_type": "markdown",
   "metadata": {},
   "source": [
    "<a href=\"https://pypi.org/project/pycomp/#description\"><img src=\"https://i.imgur.com/WcAaq1P.png\" alt=\"pycomp Logo\"></a>"
   ]
  },
  {
   "cell_type": "markdown",
   "metadata": {},
   "source": [
    "Este notebook tem por objetivo apresentar as funcionalidades do pacote **_pycomp_** como uma forma rápida e eficiente de treinar e avaliar modelos de Machine Learning. Disponível no [PyPi](https://pypi.org/project/pycomp/) e no [GitHub](https://github.com/ThiagoPanini/pycomp), o pacote proporciona, a partir de seu módulo `ml`, a construção de fluxos avançados de preparação e modelagem de dados utilizando poucas linhas de código. Toda a complexidade do processo de modelagem encontra-se encapsulada em classes e métodos criados para literalmente dar asas aos desenvolvedores e cientistas de dados.\n",
    "\n",
    "- _Pré requisitos: conhecimento básico em Machine Learning e uma base de dados em mãos!_\n",
    "\n",
    "    O resto, deixa que o pycomp faz!"
   ]
  },
  {
   "cell_type": "markdown",
   "metadata": {},
   "source": [
    "# Contexto: Transformers"
   ]
  },
  {
   "cell_type": "markdown",
   "metadata": {},
   "source": [
    "Para validar e exemplificar uma aplicação prática do **_pycomp_**, será utilizada a base de dados [Titanic](https://www.kaggle.com/c/titanic): um problema de negócio clássico que envolve o treinamento de modelos de Machine Learning para o entendimento das principais características relacionadas a sobrevivência dos passageiros e tripulantes no naufrágio do icônico navio.\n",
    "\n",
    "As bases estão disponíveis em dois arquivos (`train.csv` e `test.csv`) e, nas células a seguir, serão utilizadas as funções e classes presentes nos módulos `pycomp.ml.transformers` para a exploração e construção de um fluxo completo de preparação de dados para a futura utilização de um modelo preditivo."
   ]
  },
  {
   "cell_type": "code",
   "execution_count": 28,
   "metadata": {
    "ExecuteTime": {
     "end_time": "2020-11-15T22:00:07.322383Z",
     "start_time": "2020-11-15T22:00:07.307692Z"
    }
   },
   "outputs": [],
   "source": [
    "# Importando bibliotecas python\n",
    "import os\n",
    "import pandas as pd\n",
    "from warnings import filterwarnings\n",
    "filterwarnings('ignore')"
   ]
  },
  {
   "cell_type": "code",
   "execution_count": 29,
   "metadata": {
    "ExecuteTime": {
     "end_time": "2020-11-15T18:19:15.604038Z",
     "start_time": "2020-11-15T18:19:15.592687Z"
    }
   },
   "outputs": [],
   "source": [
    "# Definindo variáveis do projeto\n",
    "DATA_PATH = 'titanic_data/'\n",
    "TRAIN_FILENAME = 'train.csv'\n",
    "TEST_FILENAME = 'test.csv'"
   ]
  },
  {
   "cell_type": "markdown",
   "metadata": {},
   "source": [
    "# Lendo Base"
   ]
  },
  {
   "cell_type": "code",
   "execution_count": 30,
   "metadata": {
    "ExecuteTime": {
     "end_time": "2020-11-15T18:19:54.727671Z",
     "start_time": "2020-11-15T18:19:54.692861Z"
    }
   },
   "outputs": [
    {
     "name": "stdout",
     "output_type": "stream",
     "text": [
      "Dimensões da base de treino: (891, 12)\n"
     ]
    },
    {
     "data": {
      "text/html": [
       "<div>\n",
       "<style scoped>\n",
       "    .dataframe tbody tr th:only-of-type {\n",
       "        vertical-align: middle;\n",
       "    }\n",
       "\n",
       "    .dataframe tbody tr th {\n",
       "        vertical-align: top;\n",
       "    }\n",
       "\n",
       "    .dataframe thead th {\n",
       "        text-align: right;\n",
       "    }\n",
       "</style>\n",
       "<table border=\"1\" class=\"dataframe\">\n",
       "  <thead>\n",
       "    <tr style=\"text-align: right;\">\n",
       "      <th></th>\n",
       "      <th>PassengerId</th>\n",
       "      <th>Survived</th>\n",
       "      <th>Pclass</th>\n",
       "      <th>Name</th>\n",
       "      <th>Sex</th>\n",
       "      <th>Age</th>\n",
       "      <th>SibSp</th>\n",
       "      <th>Parch</th>\n",
       "      <th>Ticket</th>\n",
       "      <th>Fare</th>\n",
       "      <th>Cabin</th>\n",
       "      <th>Embarked</th>\n",
       "    </tr>\n",
       "  </thead>\n",
       "  <tbody>\n",
       "    <tr>\n",
       "      <th>0</th>\n",
       "      <td>1</td>\n",
       "      <td>0</td>\n",
       "      <td>3</td>\n",
       "      <td>Braund, Mr. Owen Harris</td>\n",
       "      <td>male</td>\n",
       "      <td>22.0</td>\n",
       "      <td>1</td>\n",
       "      <td>0</td>\n",
       "      <td>A/5 21171</td>\n",
       "      <td>7.2500</td>\n",
       "      <td>NaN</td>\n",
       "      <td>S</td>\n",
       "    </tr>\n",
       "    <tr>\n",
       "      <th>1</th>\n",
       "      <td>2</td>\n",
       "      <td>1</td>\n",
       "      <td>1</td>\n",
       "      <td>Cumings, Mrs. John Bradley (Florence Briggs Th...</td>\n",
       "      <td>female</td>\n",
       "      <td>38.0</td>\n",
       "      <td>1</td>\n",
       "      <td>0</td>\n",
       "      <td>PC 17599</td>\n",
       "      <td>71.2833</td>\n",
       "      <td>C85</td>\n",
       "      <td>C</td>\n",
       "    </tr>\n",
       "    <tr>\n",
       "      <th>2</th>\n",
       "      <td>3</td>\n",
       "      <td>1</td>\n",
       "      <td>3</td>\n",
       "      <td>Heikkinen, Miss. Laina</td>\n",
       "      <td>female</td>\n",
       "      <td>26.0</td>\n",
       "      <td>0</td>\n",
       "      <td>0</td>\n",
       "      <td>STON/O2. 3101282</td>\n",
       "      <td>7.9250</td>\n",
       "      <td>NaN</td>\n",
       "      <td>S</td>\n",
       "    </tr>\n",
       "    <tr>\n",
       "      <th>3</th>\n",
       "      <td>4</td>\n",
       "      <td>1</td>\n",
       "      <td>1</td>\n",
       "      <td>Futrelle, Mrs. Jacques Heath (Lily May Peel)</td>\n",
       "      <td>female</td>\n",
       "      <td>35.0</td>\n",
       "      <td>1</td>\n",
       "      <td>0</td>\n",
       "      <td>113803</td>\n",
       "      <td>53.1000</td>\n",
       "      <td>C123</td>\n",
       "      <td>S</td>\n",
       "    </tr>\n",
       "    <tr>\n",
       "      <th>4</th>\n",
       "      <td>5</td>\n",
       "      <td>0</td>\n",
       "      <td>3</td>\n",
       "      <td>Allen, Mr. William Henry</td>\n",
       "      <td>male</td>\n",
       "      <td>35.0</td>\n",
       "      <td>0</td>\n",
       "      <td>0</td>\n",
       "      <td>373450</td>\n",
       "      <td>8.0500</td>\n",
       "      <td>NaN</td>\n",
       "      <td>S</td>\n",
       "    </tr>\n",
       "  </tbody>\n",
       "</table>\n",
       "</div>"
      ],
      "text/plain": [
       "   PassengerId  Survived  Pclass  \\\n",
       "0            1         0       3   \n",
       "1            2         1       1   \n",
       "2            3         1       3   \n",
       "3            4         1       1   \n",
       "4            5         0       3   \n",
       "\n",
       "                                                Name     Sex   Age  SibSp  \\\n",
       "0                            Braund, Mr. Owen Harris    male  22.0      1   \n",
       "1  Cumings, Mrs. John Bradley (Florence Briggs Th...  female  38.0      1   \n",
       "2                             Heikkinen, Miss. Laina  female  26.0      0   \n",
       "3       Futrelle, Mrs. Jacques Heath (Lily May Peel)  female  35.0      1   \n",
       "4                           Allen, Mr. William Henry    male  35.0      0   \n",
       "\n",
       "   Parch            Ticket     Fare Cabin Embarked  \n",
       "0      0         A/5 21171   7.2500   NaN        S  \n",
       "1      0          PC 17599  71.2833   C85        C  \n",
       "2      0  STON/O2. 3101282   7.9250   NaN        S  \n",
       "3      0            113803  53.1000  C123        S  \n",
       "4      0            373450   8.0500   NaN        S  "
      ]
     },
     "execution_count": 30,
     "metadata": {},
     "output_type": "execute_result"
    }
   ],
   "source": [
    "# Lendo base de treino e verificando conteúdo\n",
    "df_train = pd.read_csv(os.path.join(DATA_PATH, TRAIN_FILENAME))\n",
    "print(f'Dimensões da base de treino: {df_train.shape}')\n",
    "df_train.head()"
   ]
  },
  {
   "cell_type": "markdown",
   "metadata": {},
   "source": [
    "Uma vez lida a base de treino, é possível analisar os atributos contidos na mesma a partir de seus [metadados](https://www.kaggle.com/c/titanic/data):\n",
    "\n",
    "- **_PassengerId_:** id do passageiro ou tripulante do navio;\n",
    "- **_Survived_:** variável resposta indicando a sobrevivência do passageiro ou tripulante;\n",
    "- **_Pclass_:** categoria indicativa da classe do ticket do passageiro (1=alta, 2=média ou 3=baixa);\n",
    "- **_Name_:** nome do passageiro ou tripulante;\n",
    "- **_Sex_:** gênero do passageiro ou tripulante;\n",
    "- **_Age_:** idade do passageiro ou tripulante;\n",
    "- **_SibSp_:** quantidade de irmãos ou cônjuges presentes na embarcação;\n",
    "- **_Parch_:** quantidade de pais ou filhos presentes na embarcação;\n",
    "- **_Ticket_:** número referente ao ticket do passageiro ou tripulante;\n",
    "- **_Fare_:** valor da tarifa paga pelo passageiro ou tripulante;\n",
    "- **_Cabin_:** número da cabine do passageiro ou tripulante;\n",
    "- **_Embarked_:** porto de embarque do passageiro ou tripulante (C=Cherbourg, Q=Queenstown, S=Southampton)."
   ]
  },
  {
   "cell_type": "markdown",
   "metadata": {},
   "source": [
    "# Data Prep"
   ]
  },
  {
   "cell_type": "markdown",
   "metadata": {},
   "source": [
    "Após a leitura e o entendimento da base de dados disponível para análise, é possível iniciar os passos referentes a preparação da nossa base para o treinamento de um modelo de Machine Learning capaz de prever a sobrevivência (`Survived=1`) de um determinado passageiro, utilizando, para tal, um compilado de features extraídas da própria base.\n",
    "\n",
    "Para detalhar esses passos, serão utilizadas as ferramentas presentes no módulo `ml.transformers` do pacote **_pycomp_** para que, a cada transformação realizada na base, seja possível medir a facilidade envolvida no processo. Para facilitar possíveis comparações, será criada uma cópia da base original para ser utilizada nas transformações a seguir."
   ]
  },
  {
   "cell_type": "code",
   "execution_count": 31,
   "metadata": {
    "ExecuteTime": {
     "end_time": "2020-11-15T18:45:09.908542Z",
     "start_time": "2020-11-15T18:45:09.902003Z"
    }
   },
   "outputs": [],
   "source": [
    "# Cópia da base\n",
    "train = df_train.copy()"
   ]
  },
  {
   "cell_type": "markdown",
   "metadata": {},
   "source": [
    "## Pycomp Transformers"
   ]
  },
  {
   "cell_type": "code",
   "execution_count": 32,
   "metadata": {},
   "outputs": [
    {
     "name": "stdout",
     "output_type": "stream",
     "text": [
      "Requirement already up-to-date: pycomp in /home/paninit/anaconda3/lib/python3.7/site-packages (0.0.16)\n",
      "Requirement already satisfied, skipping upgrade: seaborn==0.11.0 in /home/paninit/anaconda3/lib/python3.7/site-packages (from pycomp) (0.11.0)\n",
      "Requirement already satisfied, skipping upgrade: shap==0.37.0 in /home/paninit/anaconda3/lib/python3.7/site-packages (from pycomp) (0.37.0)\n",
      "Requirement already satisfied, skipping upgrade: scikit-learn==0.23.2 in /home/paninit/anaconda3/lib/python3.7/site-packages (from pycomp) (0.23.2)\n",
      "Requirement already satisfied, skipping upgrade: joblib==0.17.0 in /home/paninit/anaconda3/lib/python3.7/site-packages (from pycomp) (0.17.0)\n",
      "Requirement already satisfied, skipping upgrade: numpy==1.19.3 in /home/paninit/anaconda3/lib/python3.7/site-packages (from pycomp) (1.19.3)\n",
      "Requirement already satisfied, skipping upgrade: pandas==1.1.3 in /home/paninit/anaconda3/lib/python3.7/site-packages (from pycomp) (1.1.3)\n",
      "Requirement already satisfied, skipping upgrade: matplotlib==3.3.2 in /home/paninit/anaconda3/lib/python3.7/site-packages (from pycomp) (3.3.2)\n",
      "Requirement already satisfied, skipping upgrade: scipy>=1.0 in /home/paninit/anaconda3/lib/python3.7/site-packages (from seaborn==0.11.0->pycomp) (1.5.2)\n",
      "Requirement already satisfied, skipping upgrade: tqdm>4.25.0 in /home/paninit/anaconda3/lib/python3.7/site-packages (from shap==0.37.0->pycomp) (4.50.0)\n",
      "Requirement already satisfied, skipping upgrade: slicer==0.0.3 in /home/paninit/anaconda3/lib/python3.7/site-packages (from shap==0.37.0->pycomp) (0.0.3)\n",
      "Requirement already satisfied, skipping upgrade: numba in /home/paninit/anaconda3/lib/python3.7/site-packages (from shap==0.37.0->pycomp) (0.51.2)\n",
      "Requirement already satisfied, skipping upgrade: threadpoolctl>=2.0.0 in /home/paninit/anaconda3/lib/python3.7/site-packages (from scikit-learn==0.23.2->pycomp) (2.1.0)\n",
      "Requirement already satisfied, skipping upgrade: python-dateutil>=2.7.3 in /home/paninit/anaconda3/lib/python3.7/site-packages (from pandas==1.1.3->pycomp) (2.8.1)\n",
      "Requirement already satisfied, skipping upgrade: pytz>=2017.2 in /home/paninit/anaconda3/lib/python3.7/site-packages (from pandas==1.1.3->pycomp) (2020.1)\n",
      "Requirement already satisfied, skipping upgrade: kiwisolver>=1.0.1 in /home/paninit/anaconda3/lib/python3.7/site-packages (from matplotlib==3.3.2->pycomp) (1.2.0)\n",
      "Requirement already satisfied, skipping upgrade: cycler>=0.10 in /home/paninit/anaconda3/lib/python3.7/site-packages (from matplotlib==3.3.2->pycomp) (0.10.0)\n",
      "Requirement already satisfied, skipping upgrade: pyparsing!=2.0.4,!=2.1.2,!=2.1.6,>=2.0.3 in /home/paninit/anaconda3/lib/python3.7/site-packages (from matplotlib==3.3.2->pycomp) (2.4.7)\n",
      "Requirement already satisfied, skipping upgrade: certifi>=2020.06.20 in /home/paninit/anaconda3/lib/python3.7/site-packages (from matplotlib==3.3.2->pycomp) (2020.6.20)\n",
      "Requirement already satisfied, skipping upgrade: pillow>=6.2.0 in /home/paninit/anaconda3/lib/python3.7/site-packages (from matplotlib==3.3.2->pycomp) (7.2.0)\n",
      "Requirement already satisfied, skipping upgrade: setuptools in /home/paninit/anaconda3/lib/python3.7/site-packages (from numba->shap==0.37.0->pycomp) (49.6.0.post20200925)\n",
      "Requirement already satisfied, skipping upgrade: llvmlite<0.35,>=0.34.0.dev0 in /home/paninit/anaconda3/lib/python3.7/site-packages (from numba->shap==0.37.0->pycomp) (0.34.0)\n",
      "Requirement already satisfied, skipping upgrade: six>=1.5 in /home/paninit/anaconda3/lib/python3.7/site-packages (from python-dateutil>=2.7.3->pandas==1.1.3->pycomp) (1.15.0)\n"
     ]
    }
   ],
   "source": [
    "# Instalando biblioteca com pip\n",
    "!pip install pycomp --upgrade"
   ]
  },
  {
   "cell_type": "markdown",
   "metadata": {},
   "source": [
    "### Padronização com FormataColunas()"
   ]
  },
  {
   "cell_type": "markdown",
   "metadata": {},
   "source": [
    "De modo a padronizar o fluxo de prep dos dados, o transformer `FormataColunas()` será utilizado para renomear as colunas da base para tratamentos futuros. A partir da execução do método `fit_transform()` dessa classe, os métodos `lower()` e `replace()` são aplicados nas colunas presentes na base."
   ]
  },
  {
   "cell_type": "code",
   "execution_count": 33,
   "metadata": {
    "ExecuteTime": {
     "end_time": "2020-11-15T18:49:13.446126Z",
     "start_time": "2020-11-15T18:49:13.405138Z"
    }
   },
   "outputs": [
    {
     "name": "stdout",
     "output_type": "stream",
     "text": [
      "Colunas da base antes da formatação: ['PassengerId', 'Survived', 'Pclass', 'Name', 'Sex', 'Age', 'SibSp', 'Parch', 'Ticket', 'Fare', 'Cabin', 'Embarked']\n",
      "\n",
      "Colunas da base após a formatação: ['passengerid', 'survived', 'pclass', 'name', 'sex', 'age', 'sibsp', 'parch', 'ticket', 'fare', 'cabin', 'embarked']\n"
     ]
    },
    {
     "data": {
      "text/html": [
       "<div>\n",
       "<style scoped>\n",
       "    .dataframe tbody tr th:only-of-type {\n",
       "        vertical-align: middle;\n",
       "    }\n",
       "\n",
       "    .dataframe tbody tr th {\n",
       "        vertical-align: top;\n",
       "    }\n",
       "\n",
       "    .dataframe thead th {\n",
       "        text-align: right;\n",
       "    }\n",
       "</style>\n",
       "<table border=\"1\" class=\"dataframe\">\n",
       "  <thead>\n",
       "    <tr style=\"text-align: right;\">\n",
       "      <th></th>\n",
       "      <th>passengerid</th>\n",
       "      <th>survived</th>\n",
       "      <th>pclass</th>\n",
       "      <th>name</th>\n",
       "      <th>sex</th>\n",
       "      <th>age</th>\n",
       "      <th>sibsp</th>\n",
       "      <th>parch</th>\n",
       "      <th>ticket</th>\n",
       "      <th>fare</th>\n",
       "      <th>cabin</th>\n",
       "      <th>embarked</th>\n",
       "    </tr>\n",
       "  </thead>\n",
       "  <tbody>\n",
       "    <tr>\n",
       "      <th>0</th>\n",
       "      <td>1</td>\n",
       "      <td>0</td>\n",
       "      <td>3</td>\n",
       "      <td>Braund, Mr. Owen Harris</td>\n",
       "      <td>male</td>\n",
       "      <td>22.0</td>\n",
       "      <td>1</td>\n",
       "      <td>0</td>\n",
       "      <td>A/5 21171</td>\n",
       "      <td>7.2500</td>\n",
       "      <td>NaN</td>\n",
       "      <td>S</td>\n",
       "    </tr>\n",
       "    <tr>\n",
       "      <th>1</th>\n",
       "      <td>2</td>\n",
       "      <td>1</td>\n",
       "      <td>1</td>\n",
       "      <td>Cumings, Mrs. John Bradley (Florence Briggs Th...</td>\n",
       "      <td>female</td>\n",
       "      <td>38.0</td>\n",
       "      <td>1</td>\n",
       "      <td>0</td>\n",
       "      <td>PC 17599</td>\n",
       "      <td>71.2833</td>\n",
       "      <td>C85</td>\n",
       "      <td>C</td>\n",
       "    </tr>\n",
       "    <tr>\n",
       "      <th>2</th>\n",
       "      <td>3</td>\n",
       "      <td>1</td>\n",
       "      <td>3</td>\n",
       "      <td>Heikkinen, Miss. Laina</td>\n",
       "      <td>female</td>\n",
       "      <td>26.0</td>\n",
       "      <td>0</td>\n",
       "      <td>0</td>\n",
       "      <td>STON/O2. 3101282</td>\n",
       "      <td>7.9250</td>\n",
       "      <td>NaN</td>\n",
       "      <td>S</td>\n",
       "    </tr>\n",
       "    <tr>\n",
       "      <th>3</th>\n",
       "      <td>4</td>\n",
       "      <td>1</td>\n",
       "      <td>1</td>\n",
       "      <td>Futrelle, Mrs. Jacques Heath (Lily May Peel)</td>\n",
       "      <td>female</td>\n",
       "      <td>35.0</td>\n",
       "      <td>1</td>\n",
       "      <td>0</td>\n",
       "      <td>113803</td>\n",
       "      <td>53.1000</td>\n",
       "      <td>C123</td>\n",
       "      <td>S</td>\n",
       "    </tr>\n",
       "    <tr>\n",
       "      <th>4</th>\n",
       "      <td>5</td>\n",
       "      <td>0</td>\n",
       "      <td>3</td>\n",
       "      <td>Allen, Mr. William Henry</td>\n",
       "      <td>male</td>\n",
       "      <td>35.0</td>\n",
       "      <td>0</td>\n",
       "      <td>0</td>\n",
       "      <td>373450</td>\n",
       "      <td>8.0500</td>\n",
       "      <td>NaN</td>\n",
       "      <td>S</td>\n",
       "    </tr>\n",
       "  </tbody>\n",
       "</table>\n",
       "</div>"
      ],
      "text/plain": [
       "   passengerid  survived  pclass  \\\n",
       "0            1         0       3   \n",
       "1            2         1       1   \n",
       "2            3         1       3   \n",
       "3            4         1       1   \n",
       "4            5         0       3   \n",
       "\n",
       "                                                name     sex   age  sibsp  \\\n",
       "0                            Braund, Mr. Owen Harris    male  22.0      1   \n",
       "1  Cumings, Mrs. John Bradley (Florence Briggs Th...  female  38.0      1   \n",
       "2                             Heikkinen, Miss. Laina  female  26.0      0   \n",
       "3       Futrelle, Mrs. Jacques Heath (Lily May Peel)  female  35.0      1   \n",
       "4                           Allen, Mr. William Henry    male  35.0      0   \n",
       "\n",
       "   parch            ticket     fare cabin embarked  \n",
       "0      0         A/5 21171   7.2500   NaN        S  \n",
       "1      0          PC 17599  71.2833   C85        C  \n",
       "2      0  STON/O2. 3101282   7.9250   NaN        S  \n",
       "3      0            113803  53.1000  C123        S  \n",
       "4      0            373450   8.0500   NaN        S  "
      ]
     },
     "execution_count": 33,
     "metadata": {},
     "output_type": "execute_result"
    }
   ],
   "source": [
    "# Importando classe\n",
    "from pycomp.ml.transformers import FormataColunas\n",
    "\n",
    "# Instanciando classe e aplicando método\n",
    "formatter = FormataColunas()\n",
    "train_fmt = formatter.fit_transform(train)\n",
    "\n",
    "# Visualizando resultado\n",
    "print(f'Colunas da base antes da formatação: {list(df_train.columns)}')\n",
    "print(f'\\nColunas da base após a formatação: {list(train_fmt.columns)}')\n",
    "train_fmt.head()"
   ]
  },
  {
   "cell_type": "markdown",
   "metadata": {},
   "source": [
    "### Filtro com FiltraColunas()"
   ]
  },
  {
   "cell_type": "markdown",
   "metadata": {},
   "source": [
    "Analisando o significado individual de cada coluna presente na base, percebe-se que algumas delas não fazem sentido serem inclusas em um modelo de Machine Learning, como por exemplo, o nome do passageiro ou tripulante (_name_) ou o número do ticket adquirido pelo mesmo (_ticket_). Dessa forma, a partir da execução do método `fit_transform()` da classe `FiltraColunas()`, é possível desenvolver um motor que filtra uma base a partir de uma lista de features passadas como argumento."
   ]
  },
  {
   "cell_type": "code",
   "execution_count": 34,
   "metadata": {
    "ExecuteTime": {
     "end_time": "2020-11-15T18:58:25.000812Z",
     "start_time": "2020-11-15T18:58:24.971092Z"
    }
   },
   "outputs": [
    {
     "name": "stdout",
     "output_type": "stream",
     "text": [
      "Colunas da base antes da seleção: ['passengerid', 'survived', 'pclass', 'name', 'sex', 'age', 'sibsp', 'parch', 'ticket', 'fare', 'cabin', 'embarked']\n",
      "\n",
      "Colunas da base após a seleção: ['survived', 'pclass', 'sex', 'age', 'sibsp', 'parch', 'fare', 'embarked']\n"
     ]
    },
    {
     "data": {
      "text/html": [
       "<div>\n",
       "<style scoped>\n",
       "    .dataframe tbody tr th:only-of-type {\n",
       "        vertical-align: middle;\n",
       "    }\n",
       "\n",
       "    .dataframe tbody tr th {\n",
       "        vertical-align: top;\n",
       "    }\n",
       "\n",
       "    .dataframe thead th {\n",
       "        text-align: right;\n",
       "    }\n",
       "</style>\n",
       "<table border=\"1\" class=\"dataframe\">\n",
       "  <thead>\n",
       "    <tr style=\"text-align: right;\">\n",
       "      <th></th>\n",
       "      <th>survived</th>\n",
       "      <th>pclass</th>\n",
       "      <th>sex</th>\n",
       "      <th>age</th>\n",
       "      <th>sibsp</th>\n",
       "      <th>parch</th>\n",
       "      <th>fare</th>\n",
       "      <th>embarked</th>\n",
       "    </tr>\n",
       "  </thead>\n",
       "  <tbody>\n",
       "    <tr>\n",
       "      <th>0</th>\n",
       "      <td>0</td>\n",
       "      <td>3</td>\n",
       "      <td>male</td>\n",
       "      <td>22.0</td>\n",
       "      <td>1</td>\n",
       "      <td>0</td>\n",
       "      <td>7.2500</td>\n",
       "      <td>S</td>\n",
       "    </tr>\n",
       "    <tr>\n",
       "      <th>1</th>\n",
       "      <td>1</td>\n",
       "      <td>1</td>\n",
       "      <td>female</td>\n",
       "      <td>38.0</td>\n",
       "      <td>1</td>\n",
       "      <td>0</td>\n",
       "      <td>71.2833</td>\n",
       "      <td>C</td>\n",
       "    </tr>\n",
       "    <tr>\n",
       "      <th>2</th>\n",
       "      <td>1</td>\n",
       "      <td>3</td>\n",
       "      <td>female</td>\n",
       "      <td>26.0</td>\n",
       "      <td>0</td>\n",
       "      <td>0</td>\n",
       "      <td>7.9250</td>\n",
       "      <td>S</td>\n",
       "    </tr>\n",
       "    <tr>\n",
       "      <th>3</th>\n",
       "      <td>1</td>\n",
       "      <td>1</td>\n",
       "      <td>female</td>\n",
       "      <td>35.0</td>\n",
       "      <td>1</td>\n",
       "      <td>0</td>\n",
       "      <td>53.1000</td>\n",
       "      <td>S</td>\n",
       "    </tr>\n",
       "    <tr>\n",
       "      <th>4</th>\n",
       "      <td>0</td>\n",
       "      <td>3</td>\n",
       "      <td>male</td>\n",
       "      <td>35.0</td>\n",
       "      <td>0</td>\n",
       "      <td>0</td>\n",
       "      <td>8.0500</td>\n",
       "      <td>S</td>\n",
       "    </tr>\n",
       "  </tbody>\n",
       "</table>\n",
       "</div>"
      ],
      "text/plain": [
       "   survived  pclass     sex   age  sibsp  parch     fare embarked\n",
       "0         0       3    male  22.0      1      0   7.2500        S\n",
       "1         1       1  female  38.0      1      0  71.2833        C\n",
       "2         1       3  female  26.0      0      0   7.9250        S\n",
       "3         1       1  female  35.0      1      0  53.1000        S\n",
       "4         0       3    male  35.0      0      0   8.0500        S"
      ]
     },
     "execution_count": 34,
     "metadata": {},
     "output_type": "execute_result"
    }
   ],
   "source": [
    "# Importando classe\n",
    "from pycomp.ml.transformers import FiltraColunas\n",
    "\n",
    "# Instanciando classe e aplicando método\n",
    "initial_features = ['survived', 'pclass', 'sex', 'age', 'sibsp', 'parch', 'fare', 'embarked']\n",
    "selector = FiltraColunas(features=initial_features)\n",
    "train_slct = selector.fit_transform(train_fmt)\n",
    "\n",
    "# Verificando resultado\n",
    "print(f'Colunas da base antes da seleção: {list(train_fmt.columns)}')\n",
    "print(f'\\nColunas da base após a seleção: {list(train_slct.columns)}')\n",
    "train_slct.head()"
   ]
  },
  {
   "cell_type": "markdown",
   "metadata": {},
   "source": [
    "Assim, as colunas `passengerid`, `name`, `ticket` e `cabin` foram retiradas da base por não serem boas candidatas ao modelo preditivo a ser construído posteriormente."
   ]
  },
  {
   "cell_type": "markdown",
   "metadata": {},
   "source": [
    "### Target com DefineTarget()"
   ]
  },
  {
   "cell_type": "markdown",
   "metadata": {},
   "source": [
    "Uma importante tarefa a ser realizada antes da fase de modelagem é a devida preparação da variável resposta do modelo. Em muitos casos, tem-se uma coluna categórica descrevendo as classes positiva e negativa, exigindo assim um passo de mapeamento para transformação das categorias em elementos interpretáveis por um modelo de ML (1s e 0s).\n",
    "\n",
    "No caso do dataset Titanic, essa transformação não seria necessária, visto que a variável resposta, indicada pela coluna `survived` já é populada com 1 para os sobreviventes e 0 para as vítimas. Porém, para fins de demonstração, vamos utilizar a classe `DefineTarget()` para simular uma preparação possível pra classe target do nosso modelo."
   ]
  },
  {
   "cell_type": "code",
   "execution_count": 35,
   "metadata": {
    "ExecuteTime": {
     "end_time": "2020-11-15T22:00:29.510231Z",
     "start_time": "2020-11-15T22:00:29.465557Z"
    }
   },
   "outputs": [
    {
     "name": "stdout",
     "output_type": "stream",
     "text": [
      "Colunas da base antes da preparação do target: ['survived', 'pclass', 'sex', 'age', 'sibsp', 'parch', 'fare', 'embarked', 'target']\n",
      "\n",
      "Colunas da base após a preparação do target: ['pclass', 'sex', 'age', 'sibsp', 'parch', 'fare', 'embarked', 'target']\n"
     ]
    },
    {
     "data": {
      "text/html": [
       "<div>\n",
       "<style scoped>\n",
       "    .dataframe tbody tr th:only-of-type {\n",
       "        vertical-align: middle;\n",
       "    }\n",
       "\n",
       "    .dataframe tbody tr th {\n",
       "        vertical-align: top;\n",
       "    }\n",
       "\n",
       "    .dataframe thead th {\n",
       "        text-align: right;\n",
       "    }\n",
       "</style>\n",
       "<table border=\"1\" class=\"dataframe\">\n",
       "  <thead>\n",
       "    <tr style=\"text-align: right;\">\n",
       "      <th></th>\n",
       "      <th>pclass</th>\n",
       "      <th>sex</th>\n",
       "      <th>age</th>\n",
       "      <th>sibsp</th>\n",
       "      <th>parch</th>\n",
       "      <th>fare</th>\n",
       "      <th>embarked</th>\n",
       "      <th>target</th>\n",
       "    </tr>\n",
       "  </thead>\n",
       "  <tbody>\n",
       "    <tr>\n",
       "      <th>0</th>\n",
       "      <td>3</td>\n",
       "      <td>male</td>\n",
       "      <td>22.0</td>\n",
       "      <td>1</td>\n",
       "      <td>0</td>\n",
       "      <td>7.2500</td>\n",
       "      <td>S</td>\n",
       "      <td>0</td>\n",
       "    </tr>\n",
       "    <tr>\n",
       "      <th>1</th>\n",
       "      <td>1</td>\n",
       "      <td>female</td>\n",
       "      <td>38.0</td>\n",
       "      <td>1</td>\n",
       "      <td>0</td>\n",
       "      <td>71.2833</td>\n",
       "      <td>C</td>\n",
       "      <td>1</td>\n",
       "    </tr>\n",
       "    <tr>\n",
       "      <th>2</th>\n",
       "      <td>3</td>\n",
       "      <td>female</td>\n",
       "      <td>26.0</td>\n",
       "      <td>0</td>\n",
       "      <td>0</td>\n",
       "      <td>7.9250</td>\n",
       "      <td>S</td>\n",
       "      <td>1</td>\n",
       "    </tr>\n",
       "    <tr>\n",
       "      <th>3</th>\n",
       "      <td>1</td>\n",
       "      <td>female</td>\n",
       "      <td>35.0</td>\n",
       "      <td>1</td>\n",
       "      <td>0</td>\n",
       "      <td>53.1000</td>\n",
       "      <td>S</td>\n",
       "      <td>1</td>\n",
       "    </tr>\n",
       "    <tr>\n",
       "      <th>4</th>\n",
       "      <td>3</td>\n",
       "      <td>male</td>\n",
       "      <td>35.0</td>\n",
       "      <td>0</td>\n",
       "      <td>0</td>\n",
       "      <td>8.0500</td>\n",
       "      <td>S</td>\n",
       "      <td>0</td>\n",
       "    </tr>\n",
       "  </tbody>\n",
       "</table>\n",
       "</div>"
      ],
      "text/plain": [
       "   pclass     sex   age  sibsp  parch     fare embarked  target\n",
       "0       3    male  22.0      1      0   7.2500        S       0\n",
       "1       1  female  38.0      1      0  71.2833        C       1\n",
       "2       3  female  26.0      0      0   7.9250        S       1\n",
       "3       1  female  35.0      1      0  53.1000        S       1\n",
       "4       3    male  35.0      0      0   8.0500        S       0"
      ]
     },
     "execution_count": 35,
     "metadata": {},
     "output_type": "execute_result"
    }
   ],
   "source": [
    "# Importando classe\n",
    "from pycomp.ml.transformers import DefineTarget\n",
    "\n",
    "# Instanciando classe e aplicando método\n",
    "target = 'survived'\n",
    "pos_class = 1\n",
    "target_prep = DefineTarget(target_col=target, pos_class=pos_class)\n",
    "train_tgt = target_prep.fit_transform(train_slct)\n",
    "\n",
    "# Verificando resultado\n",
    "print(f'Colunas da base antes da preparação do target: {list(train_slct.columns)}')\n",
    "print(f'\\nColunas da base após a preparação do target: {list(train_tgt.columns)}')\n",
    "train_tgt.head()"
   ]
  },
  {
   "cell_type": "markdown",
   "metadata": {},
   "source": [
    "O step de preparação da variável target da base se dá pela substituição de uma coluna contendo a variável resposta por 1s (entrada da classe positiva passada como argumento) e 0s (outra(s) entrada(s) categórica(s) contida(s) na coluna original), gerando assim uma nova coluna chamada `target` (ou o nome passado como argumento para a variável `new_target_name`)"
   ]
  },
  {
   "cell_type": "markdown",
   "metadata": {},
   "source": [
    "### Duplicatas com EliminaDuplicatas()"
   ]
  },
  {
   "cell_type": "markdown",
   "metadata": {},
   "source": [
    "O tratamento de dados duplicados é um importante passo a ser tomado durante a fase de perparação da base. Entre as possibilidades existentes, a eliminação da duplicatas é uma das mais preferíveis, visto que traz uma forma direta de reduzir a redundância dos dados, auxiliando assim o modelo a converger mais rápido para o erro mínimo computado."
   ]
  },
  {
   "cell_type": "code",
   "execution_count": 36,
   "metadata": {
    "ExecuteTime": {
     "end_time": "2020-11-15T22:12:48.305228Z",
     "start_time": "2020-11-15T22:12:48.275385Z"
    }
   },
   "outputs": [
    {
     "name": "stdout",
     "output_type": "stream",
     "text": [
      "Quantidade de dados duplicados na base antes: 111\n",
      "Quantidade de dados duplicados na base depois: 0\n"
     ]
    }
   ],
   "source": [
    "# Importando classe\n",
    "from pycomp.ml.transformers import EliminaDuplicatas\n",
    "\n",
    "# Instanciando classe e executando método\n",
    "dup_dropper = EliminaDuplicatas()\n",
    "train_nodup = dup_dropper.fit_transform(train_tgt)\n",
    "\n",
    "# Verificando resultados\n",
    "print(f'Quantidade de dados duplicados na base antes: {train_tgt.duplicated().sum()}')\n",
    "print(f'Quantidade de dados duplicados na base depois: {train_nodup.duplicated().sum()}')"
   ]
  },
  {
   "cell_type": "markdown",
   "metadata": {},
   "source": [
    "Assim, após a execução do método `fit_transform()` da classe `EliminaDuplicatas()`, 111 registros da base foram eliminados por conter redundância das features. \n",
    "\n",
    "Até o momento atual, foram exemplificadas algumas classes pré programadas do módulo `pycomp.ml.transformers` dentro de um contexto inicial de preparação. Os _transformers_ foram aplicados no que poderia ser consideado um \"Pipeline inicial\" da base logo após a leitura, trazendo alterações comuns a base por completo (sem a separação de variáveis numéricas e categóricas, por exemplo). Na sequência, todos esses passos serão consolidados e novos pipelines serão criados utilizando as funcionalidades do `pycomp`."
   ]
  },
  {
   "cell_type": "markdown",
   "metadata": {},
   "source": [
    "## Construindo Pipelines"
   ]
  },
  {
   "cell_type": "markdown",
   "metadata": {},
   "source": [
    "Após exemplificados individualmente os passos responsáveis por aplicar transformações na base de dados de treino, as ferramentas contidas no módulo `pycomp.ml.transformers` podem ser apresentadas em uma de suas principais vantagens: a construção de um Pipeline de transformação utilizando uma classe nativa do `sklearn`.\n",
    "\n",
    "Isso se dá pela forma como as classes do módulo `transformers` foram construídas: ao herdar as classes `BaseTransformer` e `TransformerMixin` e, definindo os método `fit()` e `transform()` separadamente, as classes então herdam automaticamente o método `fit_transform()`, sendo este utilizado de forma sequencial dentro de um Pipeline de preparação construído através da classe `Pipeline` do pacote `sklearn`."
   ]
  },
  {
   "cell_type": "markdown",
   "metadata": {},
   "source": [
    "### Pipeline Inicial"
   ]
  },
  {
   "cell_type": "markdown",
   "metadata": {},
   "source": [
    "Em um primeiro momento, para exemplificar essa rica funcionalidade de integração do módulo `transformers`, a célula abaixo será responsável por encapsular todos os transformadores utilizados até o momento em um bloco único. Em seguida, os dados originais serão utilizados como input para aplicação dos steps definidos."
   ]
  },
  {
   "cell_type": "code",
   "execution_count": 37,
   "metadata": {
    "ExecuteTime": {
     "end_time": "2020-11-16T01:07:34.238277Z",
     "start_time": "2020-11-16T01:07:34.231721Z"
    }
   },
   "outputs": [],
   "source": [
    "# Importando bibliotecas\n",
    "from sklearn.pipeline import Pipeline\n",
    "\n",
    "# Construindo Pipeline\n",
    "initial_pipeline = Pipeline([\n",
    "    ('formatter', FormataColunas()),\n",
    "    ('selector', FiltraColunas(features=initial_features)),\n",
    "    ('target_prep', DefineTarget(target_col='survived', pos_class=1)),\n",
    "    ('dup_dropper', EliminaDuplicatas())\n",
    "])"
   ]
  },
  {
   "cell_type": "markdown",
   "metadata": {},
   "source": [
    "Construído o pipeline utilizando as classes, abaixo será mostrada novamente a base inicial lida no início do notebook:"
   ]
  },
  {
   "cell_type": "code",
   "execution_count": 38,
   "metadata": {
    "ExecuteTime": {
     "end_time": "2020-11-15T23:38:29.711563Z",
     "start_time": "2020-11-15T23:38:29.697364Z"
    }
   },
   "outputs": [
    {
     "data": {
      "text/html": [
       "<div>\n",
       "<style scoped>\n",
       "    .dataframe tbody tr th:only-of-type {\n",
       "        vertical-align: middle;\n",
       "    }\n",
       "\n",
       "    .dataframe tbody tr th {\n",
       "        vertical-align: top;\n",
       "    }\n",
       "\n",
       "    .dataframe thead th {\n",
       "        text-align: right;\n",
       "    }\n",
       "</style>\n",
       "<table border=\"1\" class=\"dataframe\">\n",
       "  <thead>\n",
       "    <tr style=\"text-align: right;\">\n",
       "      <th></th>\n",
       "      <th>PassengerId</th>\n",
       "      <th>Survived</th>\n",
       "      <th>Pclass</th>\n",
       "      <th>Name</th>\n",
       "      <th>Sex</th>\n",
       "      <th>Age</th>\n",
       "      <th>SibSp</th>\n",
       "      <th>Parch</th>\n",
       "      <th>Ticket</th>\n",
       "      <th>Fare</th>\n",
       "      <th>Cabin</th>\n",
       "      <th>Embarked</th>\n",
       "    </tr>\n",
       "  </thead>\n",
       "  <tbody>\n",
       "    <tr>\n",
       "      <th>0</th>\n",
       "      <td>1</td>\n",
       "      <td>0</td>\n",
       "      <td>3</td>\n",
       "      <td>Braund, Mr. Owen Harris</td>\n",
       "      <td>male</td>\n",
       "      <td>22.0</td>\n",
       "      <td>1</td>\n",
       "      <td>0</td>\n",
       "      <td>A/5 21171</td>\n",
       "      <td>7.2500</td>\n",
       "      <td>NaN</td>\n",
       "      <td>S</td>\n",
       "    </tr>\n",
       "    <tr>\n",
       "      <th>1</th>\n",
       "      <td>2</td>\n",
       "      <td>1</td>\n",
       "      <td>1</td>\n",
       "      <td>Cumings, Mrs. John Bradley (Florence Briggs Th...</td>\n",
       "      <td>female</td>\n",
       "      <td>38.0</td>\n",
       "      <td>1</td>\n",
       "      <td>0</td>\n",
       "      <td>PC 17599</td>\n",
       "      <td>71.2833</td>\n",
       "      <td>C85</td>\n",
       "      <td>C</td>\n",
       "    </tr>\n",
       "    <tr>\n",
       "      <th>2</th>\n",
       "      <td>3</td>\n",
       "      <td>1</td>\n",
       "      <td>3</td>\n",
       "      <td>Heikkinen, Miss. Laina</td>\n",
       "      <td>female</td>\n",
       "      <td>26.0</td>\n",
       "      <td>0</td>\n",
       "      <td>0</td>\n",
       "      <td>STON/O2. 3101282</td>\n",
       "      <td>7.9250</td>\n",
       "      <td>NaN</td>\n",
       "      <td>S</td>\n",
       "    </tr>\n",
       "    <tr>\n",
       "      <th>3</th>\n",
       "      <td>4</td>\n",
       "      <td>1</td>\n",
       "      <td>1</td>\n",
       "      <td>Futrelle, Mrs. Jacques Heath (Lily May Peel)</td>\n",
       "      <td>female</td>\n",
       "      <td>35.0</td>\n",
       "      <td>1</td>\n",
       "      <td>0</td>\n",
       "      <td>113803</td>\n",
       "      <td>53.1000</td>\n",
       "      <td>C123</td>\n",
       "      <td>S</td>\n",
       "    </tr>\n",
       "    <tr>\n",
       "      <th>4</th>\n",
       "      <td>5</td>\n",
       "      <td>0</td>\n",
       "      <td>3</td>\n",
       "      <td>Allen, Mr. William Henry</td>\n",
       "      <td>male</td>\n",
       "      <td>35.0</td>\n",
       "      <td>0</td>\n",
       "      <td>0</td>\n",
       "      <td>373450</td>\n",
       "      <td>8.0500</td>\n",
       "      <td>NaN</td>\n",
       "      <td>S</td>\n",
       "    </tr>\n",
       "  </tbody>\n",
       "</table>\n",
       "</div>"
      ],
      "text/plain": [
       "   PassengerId  Survived  Pclass  \\\n",
       "0            1         0       3   \n",
       "1            2         1       1   \n",
       "2            3         1       3   \n",
       "3            4         1       1   \n",
       "4            5         0       3   \n",
       "\n",
       "                                                Name     Sex   Age  SibSp  \\\n",
       "0                            Braund, Mr. Owen Harris    male  22.0      1   \n",
       "1  Cumings, Mrs. John Bradley (Florence Briggs Th...  female  38.0      1   \n",
       "2                             Heikkinen, Miss. Laina  female  26.0      0   \n",
       "3       Futrelle, Mrs. Jacques Heath (Lily May Peel)  female  35.0      1   \n",
       "4                           Allen, Mr. William Henry    male  35.0      0   \n",
       "\n",
       "   Parch            Ticket     Fare Cabin Embarked  \n",
       "0      0         A/5 21171   7.2500   NaN        S  \n",
       "1      0          PC 17599  71.2833   C85        C  \n",
       "2      0  STON/O2. 3101282   7.9250   NaN        S  \n",
       "3      0            113803  53.1000  C123        S  \n",
       "4      0            373450   8.0500   NaN        S  "
      ]
     },
     "execution_count": 38,
     "metadata": {},
     "output_type": "execute_result"
    }
   ],
   "source": [
    "# Base original\n",
    "df_train.head()"
   ]
  },
  {
   "cell_type": "code",
   "execution_count": 39,
   "metadata": {
    "ExecuteTime": {
     "end_time": "2020-11-16T01:07:40.920038Z",
     "start_time": "2020-11-16T01:07:40.872989Z"
    }
   },
   "outputs": [
    {
     "data": {
      "text/html": [
       "<div>\n",
       "<style scoped>\n",
       "    .dataframe tbody tr th:only-of-type {\n",
       "        vertical-align: middle;\n",
       "    }\n",
       "\n",
       "    .dataframe tbody tr th {\n",
       "        vertical-align: top;\n",
       "    }\n",
       "\n",
       "    .dataframe thead th {\n",
       "        text-align: right;\n",
       "    }\n",
       "</style>\n",
       "<table border=\"1\" class=\"dataframe\">\n",
       "  <thead>\n",
       "    <tr style=\"text-align: right;\">\n",
       "      <th></th>\n",
       "      <th>pclass</th>\n",
       "      <th>sex</th>\n",
       "      <th>age</th>\n",
       "      <th>sibsp</th>\n",
       "      <th>parch</th>\n",
       "      <th>fare</th>\n",
       "      <th>embarked</th>\n",
       "      <th>target</th>\n",
       "    </tr>\n",
       "  </thead>\n",
       "  <tbody>\n",
       "    <tr>\n",
       "      <th>0</th>\n",
       "      <td>3</td>\n",
       "      <td>male</td>\n",
       "      <td>22.0</td>\n",
       "      <td>1</td>\n",
       "      <td>0</td>\n",
       "      <td>7.2500</td>\n",
       "      <td>S</td>\n",
       "      <td>0</td>\n",
       "    </tr>\n",
       "    <tr>\n",
       "      <th>1</th>\n",
       "      <td>1</td>\n",
       "      <td>female</td>\n",
       "      <td>38.0</td>\n",
       "      <td>1</td>\n",
       "      <td>0</td>\n",
       "      <td>71.2833</td>\n",
       "      <td>C</td>\n",
       "      <td>1</td>\n",
       "    </tr>\n",
       "    <tr>\n",
       "      <th>2</th>\n",
       "      <td>3</td>\n",
       "      <td>female</td>\n",
       "      <td>26.0</td>\n",
       "      <td>0</td>\n",
       "      <td>0</td>\n",
       "      <td>7.9250</td>\n",
       "      <td>S</td>\n",
       "      <td>1</td>\n",
       "    </tr>\n",
       "    <tr>\n",
       "      <th>3</th>\n",
       "      <td>1</td>\n",
       "      <td>female</td>\n",
       "      <td>35.0</td>\n",
       "      <td>1</td>\n",
       "      <td>0</td>\n",
       "      <td>53.1000</td>\n",
       "      <td>S</td>\n",
       "      <td>1</td>\n",
       "    </tr>\n",
       "    <tr>\n",
       "      <th>4</th>\n",
       "      <td>3</td>\n",
       "      <td>male</td>\n",
       "      <td>35.0</td>\n",
       "      <td>0</td>\n",
       "      <td>0</td>\n",
       "      <td>8.0500</td>\n",
       "      <td>S</td>\n",
       "      <td>0</td>\n",
       "    </tr>\n",
       "  </tbody>\n",
       "</table>\n",
       "</div>"
      ],
      "text/plain": [
       "   pclass     sex   age  sibsp  parch     fare embarked  target\n",
       "0       3    male  22.0      1      0   7.2500        S       0\n",
       "1       1  female  38.0      1      0  71.2833        C       1\n",
       "2       3  female  26.0      0      0   7.9250        S       1\n",
       "3       1  female  35.0      1      0  53.1000        S       1\n",
       "4       3    male  35.0      0      0   8.0500        S       0"
      ]
     },
     "execution_count": 39,
     "metadata": {},
     "output_type": "execute_result"
    }
   ],
   "source": [
    "# Aplicando o pipeline na base original\n",
    "df_train_prep = initial_pipeline.fit_transform(df_train)\n",
    "df_train_prep.head()"
   ]
  },
  {
   "cell_type": "markdown",
   "metadata": {},
   "source": [
    "Incrível! Em um único objeto chamado de `initial_pipeline` é possível encapsular diferentes _transformers_ em um bloco único de preparação de dados. O método `fit_transform()` desse objeto recebe uma base bruta de entrada e aplica, de forma sequencial, os demais métodos transformadores de cada uma das classes presentes no pipeline criado.\n",
    "\n",
    "O resultado obtido é uma base de dados inicialmente preparada para análises mais avançadas. Para isso, será proposto abaixo uma separação da base de dados por tipo primitivo, criando assim duas vertentes de preparação: uma para os dados numéricos e outra para os dados categóricos."
   ]
  },
  {
   "cell_type": "code",
   "execution_count": 40,
   "metadata": {
    "ExecuteTime": {
     "end_time": "2020-11-16T01:13:27.829874Z",
     "start_time": "2020-11-16T01:13:27.809786Z"
    }
   },
   "outputs": [
    {
     "name": "stdout",
     "output_type": "stream",
     "text": [
      "Variáveis numéricas da base:\n",
      "['pclass', 'age', 'sibsp', 'parch', 'fare']\n",
      "\n",
      "Variáveis categóricas da base:\n",
      "['sex', 'embarked']\n"
     ]
    }
   ],
   "source": [
    "# Separando dados em X e y\n",
    "X = df_train_prep.drop('target', axis=1)\n",
    "y = df_train_prep['target'].values\n",
    "\n",
    "# Separando colunas numéricas e categóricas\n",
    "num_features = [col for col, dtype in X.dtypes.items() if dtype != 'object']\n",
    "cat_features = [col for col, dtype in X.dtypes.items() if dtype == 'object']\n",
    "\n",
    "# Separando bases\n",
    "X_num = X[num_features]\n",
    "X_cat = X[cat_features]\n",
    "\n",
    "# Verificando\n",
    "print(f'Variáveis numéricas da base:\\n{num_features}')\n",
    "print(f'\\nVariáveis categóricas da base:\\n{cat_features}')"
   ]
  },
  {
   "cell_type": "markdown",
   "metadata": {
    "ExecuteTime": {
     "end_time": "2020-11-15T23:38:40.314010Z",
     "start_time": "2020-11-15T23:38:40.302360Z"
    }
   },
   "source": [
    "### Pipeline Numérico"
   ]
  },
  {
   "cell_type": "markdown",
   "metadata": {},
   "source": [
    "Nesse momento da preparação, é necessário analisar separadamente dados numéricos e categóricos de modo a entender a melhor forma de contornar algumas situações específicas para cada tipo primitivo. No caso dos dados numéricos, é preciso investigar a presença e a origem de possíveis dados nulos presentes nessas colunas."
   ]
  },
  {
   "cell_type": "code",
   "execution_count": 41,
   "metadata": {
    "ExecuteTime": {
     "end_time": "2020-11-16T00:37:17.814445Z",
     "start_time": "2020-11-16T00:37:17.803021Z"
    }
   },
   "outputs": [
    {
     "data": {
      "text/plain": [
       "pclass        0\n",
       "sex           0\n",
       "age         104\n",
       "sibsp         0\n",
       "parch         0\n",
       "fare          0\n",
       "embarked      2\n",
       "dtype: int64"
      ]
     },
     "execution_count": 41,
     "metadata": {},
     "output_type": "execute_result"
    }
   ],
   "source": [
    "# Verificando dados nulos\n",
    "X.isnull().sum()"
   ]
  },
  {
   "cell_type": "markdown",
   "metadata": {},
   "source": [
    "O preenchimento dos dados nulos é um fator de extrema importante em um fluxo de data prep de modelos preditivos. Cabe ao analista/cientista analisar pontualmente a origem de tais dados para que uma decisão assertiva possa ser tomada visando uma melhor performance do modelo. Neste ponto do processo, o módulo `pycomp.ml.transformers` traz algumas possibilidades, tais como:\n",
    "\n",
    "- `PreencheDadosNulos()`: preenchimento de dados nulos, em determinadas colunas, por um valor fixo definido nos argumentos da classe\n",
    "- `EliminaDadosNulos()`: classe responsável por eliminar as linhas da base que contenham dados nulos\n",
    "\n",
    "Entretanto, dado o contexto dos dados, entende-se mais vantajosa a utilização da classe `SimpleImputer` do módulo `sklearn.preprocessing` para o preenchimento dinâmico dos dados nulos a partir de uma medida estatística (média, mediana, entre outras)"
   ]
  },
  {
   "cell_type": "code",
   "execution_count": 42,
   "metadata": {
    "ExecuteTime": {
     "end_time": "2020-11-16T01:23:52.849570Z",
     "start_time": "2020-11-16T01:23:52.815641Z"
    }
   },
   "outputs": [
    {
     "name": "stdout",
     "output_type": "stream",
     "text": [
      "Dados nulos antes do imputer: 104\n",
      "Dados nulos após o imputer: 0\n"
     ]
    }
   ],
   "source": [
    "# Importando biblioteca\n",
    "from sklearn.impute import SimpleImputer\n",
    "\n",
    "# Criando pipeline numérico\n",
    "num_pipeline = Pipeline([\n",
    "    ('imputer', SimpleImputer(strategy='median'))\n",
    "])\n",
    "\n",
    "# Executando e verificando pipeline numérico\n",
    "X_num_imp = num_pipeline.fit_transform(X_num)\n",
    "print(f'Dados nulos antes do imputer: {X_num.isnull().sum().sum()}')\n",
    "print(f'Dados nulos após o imputer: {pd.DataFrame(X_num_imp).isnull().sum().sum()}')"
   ]
  },
  {
   "cell_type": "markdown",
   "metadata": {},
   "source": [
    "### Pipeline Categórico"
   ]
  },
  {
   "cell_type": "markdown",
   "metadata": {},
   "source": [
    "No pipeline categórico, o único passo adotado será dado a partir da utilização de uma classe disponibilizada pelo módulo `pycomp.ml.transformers` cujo objetivo é aplicar o processo de _encoding_ nos dados. Trata-se de classe `DummiesEncoding()`, utilizada logo a seguir:"
   ]
  },
  {
   "cell_type": "code",
   "execution_count": 43,
   "metadata": {
    "ExecuteTime": {
     "end_time": "2020-11-16T01:27:33.976117Z",
     "start_time": "2020-11-16T01:27:33.949414Z"
    }
   },
   "outputs": [],
   "source": [
    "# Importando classe\n",
    "from pycomp.ml.transformers import DummiesEncoding\n",
    "\n",
    "# Criando pipeline categórico\n",
    "cat_pipeline = Pipeline([\n",
    "    ('encoder', DummiesEncoding(dummy_na=True))\n",
    "])\n",
    "\n",
    "# Executando pipeline categórico\n",
    "X_cat_enc = cat_pipeline.fit_transform(X_cat)"
   ]
  },
  {
   "cell_type": "code",
   "execution_count": 44,
   "metadata": {
    "ExecuteTime": {
     "end_time": "2020-11-16T01:27:44.905763Z",
     "start_time": "2020-11-16T01:27:44.853197Z"
    }
   },
   "outputs": [
    {
     "data": {
      "text/html": [
       "<div>\n",
       "<style scoped>\n",
       "    .dataframe tbody tr th:only-of-type {\n",
       "        vertical-align: middle;\n",
       "    }\n",
       "\n",
       "    .dataframe tbody tr th {\n",
       "        vertical-align: top;\n",
       "    }\n",
       "\n",
       "    .dataframe thead th {\n",
       "        text-align: right;\n",
       "    }\n",
       "</style>\n",
       "<table border=\"1\" class=\"dataframe\">\n",
       "  <thead>\n",
       "    <tr style=\"text-align: right;\">\n",
       "      <th></th>\n",
       "      <th>sex</th>\n",
       "      <th>embarked</th>\n",
       "    </tr>\n",
       "  </thead>\n",
       "  <tbody>\n",
       "    <tr>\n",
       "      <th>0</th>\n",
       "      <td>male</td>\n",
       "      <td>S</td>\n",
       "    </tr>\n",
       "    <tr>\n",
       "      <th>1</th>\n",
       "      <td>female</td>\n",
       "      <td>C</td>\n",
       "    </tr>\n",
       "    <tr>\n",
       "      <th>2</th>\n",
       "      <td>female</td>\n",
       "      <td>S</td>\n",
       "    </tr>\n",
       "    <tr>\n",
       "      <th>3</th>\n",
       "      <td>female</td>\n",
       "      <td>S</td>\n",
       "    </tr>\n",
       "    <tr>\n",
       "      <th>4</th>\n",
       "      <td>male</td>\n",
       "      <td>S</td>\n",
       "    </tr>\n",
       "  </tbody>\n",
       "</table>\n",
       "</div>"
      ],
      "text/plain": [
       "      sex embarked\n",
       "0    male        S\n",
       "1  female        C\n",
       "2  female        S\n",
       "3  female        S\n",
       "4    male        S"
      ]
     },
     "execution_count": 44,
     "metadata": {},
     "output_type": "execute_result"
    }
   ],
   "source": [
    "# Antes da aplicação do pipeline\n",
    "X_cat.head()"
   ]
  },
  {
   "cell_type": "code",
   "execution_count": 45,
   "metadata": {
    "ExecuteTime": {
     "end_time": "2020-11-16T01:27:53.368738Z",
     "start_time": "2020-11-16T01:27:53.313140Z"
    }
   },
   "outputs": [
    {
     "data": {
      "text/html": [
       "<div>\n",
       "<style scoped>\n",
       "    .dataframe tbody tr th:only-of-type {\n",
       "        vertical-align: middle;\n",
       "    }\n",
       "\n",
       "    .dataframe tbody tr th {\n",
       "        vertical-align: top;\n",
       "    }\n",
       "\n",
       "    .dataframe thead th {\n",
       "        text-align: right;\n",
       "    }\n",
       "</style>\n",
       "<table border=\"1\" class=\"dataframe\">\n",
       "  <thead>\n",
       "    <tr style=\"text-align: right;\">\n",
       "      <th></th>\n",
       "      <th>sex_female</th>\n",
       "      <th>sex_male</th>\n",
       "      <th>sex_nan</th>\n",
       "      <th>embarked_C</th>\n",
       "      <th>embarked_Q</th>\n",
       "      <th>embarked_S</th>\n",
       "      <th>embarked_nan</th>\n",
       "    </tr>\n",
       "  </thead>\n",
       "  <tbody>\n",
       "    <tr>\n",
       "      <th>0</th>\n",
       "      <td>0</td>\n",
       "      <td>1</td>\n",
       "      <td>0</td>\n",
       "      <td>0</td>\n",
       "      <td>0</td>\n",
       "      <td>1</td>\n",
       "      <td>0</td>\n",
       "    </tr>\n",
       "    <tr>\n",
       "      <th>1</th>\n",
       "      <td>1</td>\n",
       "      <td>0</td>\n",
       "      <td>0</td>\n",
       "      <td>1</td>\n",
       "      <td>0</td>\n",
       "      <td>0</td>\n",
       "      <td>0</td>\n",
       "    </tr>\n",
       "    <tr>\n",
       "      <th>2</th>\n",
       "      <td>1</td>\n",
       "      <td>0</td>\n",
       "      <td>0</td>\n",
       "      <td>0</td>\n",
       "      <td>0</td>\n",
       "      <td>1</td>\n",
       "      <td>0</td>\n",
       "    </tr>\n",
       "    <tr>\n",
       "      <th>3</th>\n",
       "      <td>1</td>\n",
       "      <td>0</td>\n",
       "      <td>0</td>\n",
       "      <td>0</td>\n",
       "      <td>0</td>\n",
       "      <td>1</td>\n",
       "      <td>0</td>\n",
       "    </tr>\n",
       "    <tr>\n",
       "      <th>4</th>\n",
       "      <td>0</td>\n",
       "      <td>1</td>\n",
       "      <td>0</td>\n",
       "      <td>0</td>\n",
       "      <td>0</td>\n",
       "      <td>1</td>\n",
       "      <td>0</td>\n",
       "    </tr>\n",
       "  </tbody>\n",
       "</table>\n",
       "</div>"
      ],
      "text/plain": [
       "   sex_female  sex_male  sex_nan  embarked_C  embarked_Q  embarked_S  \\\n",
       "0           0         1        0           0           0           1   \n",
       "1           1         0        0           1           0           0   \n",
       "2           1         0        0           0           0           1   \n",
       "3           1         0        0           0           0           1   \n",
       "4           0         1        0           0           0           1   \n",
       "\n",
       "   embarked_nan  \n",
       "0             0  \n",
       "1             0  \n",
       "2             0  \n",
       "3             0  \n",
       "4             0  "
      ]
     },
     "execution_count": 45,
     "metadata": {},
     "output_type": "execute_result"
    }
   ],
   "source": [
    "# Após a aplicação do pipeline\n",
    "X_cat_enc.head()"
   ]
  },
  {
   "cell_type": "markdown",
   "metadata": {},
   "source": [
    "E assim, em mais uma classe previamente desenvolvida, foi possível aplicar um processo extremamente útil para uma preparação categórica nos dados com apenas uma linha de código. Além da funcionalidade de `encoder`, a classe `DummiesEncoding()` também armazena as features registradas após o processo em um atributo retornável (`features_after_encoding`)"
   ]
  },
  {
   "cell_type": "code",
   "execution_count": 46,
   "metadata": {
    "ExecuteTime": {
     "end_time": "2020-11-16T01:30:27.938150Z",
     "start_time": "2020-11-16T01:30:27.930190Z"
    }
   },
   "outputs": [
    {
     "data": {
      "text/plain": [
       "['sex_female',\n",
       " 'sex_male',\n",
       " 'sex_nan',\n",
       " 'embarked_C',\n",
       " 'embarked_Q',\n",
       " 'embarked_S',\n",
       " 'embarked_nan']"
      ]
     },
     "execution_count": 46,
     "metadata": {},
     "output_type": "execute_result"
    }
   ],
   "source": [
    "# Retornando features após o encoding\n",
    "cat_encoded_features = cat_pipeline.named_steps['encoder'].features_after_encoding\n",
    "cat_encoded_features"
   ]
  },
  {
   "cell_type": "markdown",
   "metadata": {},
   "source": [
    "Com isso, é possível unir novamente o conjunto de features numéricas com esse novo compilado de features categóricas para gerar o conjunto final de features do modelo preiditvo a ser treinado"
   ]
  },
  {
   "cell_type": "code",
   "execution_count": 47,
   "metadata": {
    "ExecuteTime": {
     "end_time": "2020-11-16T01:32:05.537689Z",
     "start_time": "2020-11-16T01:32:05.523860Z"
    }
   },
   "outputs": [
    {
     "name": "stdout",
     "output_type": "stream",
     "text": [
      "Ao todo, serão utilizadas 12 features no processo de modelagem\n"
     ]
    }
   ],
   "source": [
    "# Definindo features dos modelos a serem treinados\n",
    "model_features = num_features + cat_encoded_features\n",
    "print(f'Ao todo, serão utilizadas {len(model_features)} features no processo de modelagem')"
   ]
  },
  {
   "cell_type": "markdown",
   "metadata": {},
   "source": [
    "### Pipeline Completo"
   ]
  },
  {
   "cell_type": "markdown",
   "metadata": {},
   "source": [
    "Por fim, é possível agora unir os pipelines numérico e categórico em um único transformador utilizando a classe `ColumnTransformer` nativa do `sklearn`."
   ]
  },
  {
   "cell_type": "code",
   "execution_count": 48,
   "metadata": {
    "ExecuteTime": {
     "end_time": "2020-11-16T01:34:53.613092Z",
     "start_time": "2020-11-16T01:34:53.595656Z"
    }
   },
   "outputs": [],
   "source": [
    "# Importando biblioteca\n",
    "from sklearn.compose import ColumnTransformer\n",
    "\n",
    "# Criando pipeline completo\n",
    "full_pipeline = ColumnTransformer([\n",
    "    ('num', num_pipeline, num_features),\n",
    "    ('cat', cat_pipeline, cat_features)\n",
    "])"
   ]
  },
  {
   "cell_type": "markdown",
   "metadata": {},
   "source": [
    "Simulando um fluxo completo de **treino** a partir do recebimento dos dados brutos, **para essa tarefa em específico**, tem-se:\n",
    "___\n",
    "1. Leitura dos dados recebidos;\n",
    "2. Aplicação do pipeline inicial de preparação;\n",
    "3. Aplicação do pipeline completo;\n",
    "4. Modelagem\n",
    "___"
   ]
  },
  {
   "cell_type": "code",
   "execution_count": 49,
   "metadata": {
    "ExecuteTime": {
     "end_time": "2020-11-16T01:39:19.924931Z",
     "start_time": "2020-11-16T01:39:19.884303Z"
    }
   },
   "outputs": [],
   "source": [
    "# Leitura da base bruta recebida\n",
    "df_train = pd.read_csv(os.path.join(DATA_PATH, TRAIN_FILENAME))\n",
    "\n",
    "# Aplicando pipeline inicial\n",
    "df_train_prep = initial_pipeline.fit_transform(df_train)\n",
    "\n",
    "# Separando dados\n",
    "X = df_train_prep.drop('target', axis=1)\n",
    "y = df_train_prep['target'].values\n",
    "\n",
    "# Aplicando pipeline completo\n",
    "X_prep = full_pipeline.fit_transform(X)"
   ]
  },
  {
   "cell_type": "code",
   "execution_count": 50,
   "metadata": {
    "ExecuteTime": {
     "end_time": "2020-11-16T01:40:47.147569Z",
     "start_time": "2020-11-16T01:40:47.113632Z"
    }
   },
   "outputs": [
    {
     "name": "stdout",
     "output_type": "stream",
     "text": [
      "Dimensões dos dados após a preparação: (780, 12)\n",
      "Quantidade de features consideradas: 12\n"
     ]
    }
   ],
   "source": [
    "# Retornando parâmetros para sanity check\n",
    "cat_encoded_features = full_pipeline.named_transformers_['cat'].named_steps['encoder'].features_after_encoding\n",
    "model_features = num_features + cat_encoded_features\n",
    "print(f'Dimensões dos dados após a preparação: {X_prep.shape}')\n",
    "print(f'Quantidade de features consideradas: {len(model_features)}')"
   ]
  },
  {
   "cell_type": "markdown",
   "metadata": {},
   "source": [
    "# Conclusão"
   ]
  },
  {
   "cell_type": "markdown",
   "metadata": {},
   "source": [
    "Neste notebook, foram abordados tópicos referentes a construção de pipelines de preparação de dados frente a posterior execução de um modelo preditivo. Para tal, foram utilizadas algumas funcionalidades do módulo `pycomp.ml.transformers` em prol da facilitação do desenvolvimento desse fluxo de prep a partir de classes já construídas para fins específicos do processo. Considerando o contexto do dataset [Titanic](), os componentes `pycomp` utilizados foram:\n",
    "\n",
    "| Classe | Contexto | Utilização |\n",
    "| :- | :- | :- |\n",
    "| FormataColunas() | initial_pipeline | Padronização de nomes de colunas da base\n",
    "| FiltraColunas() | initial_pipeline | Seleção de features a serem utilizadas no estudo\n",
    "| DefineTarget() | initial_pipeline | Definição de variável target a partir de uma classe positiva\n",
    "| EliminaDuplicatas() | initial_pipeline | Eliminação de dados duplicados na base\n",
    "| DummiesEncoding() | cat_pipeline | Aplicação de procedimento de encoding em variáveis categóricas"
   ]
  },
  {
   "cell_type": "markdown",
   "metadata": {},
   "source": [
    "É importante citar que existem outros transformadores no módulo `pycomp.ml.transformers` que não foram utilizados nesse exemplo por conta do próprio contexto dos dados. Ferramentas para preenchimento de dados nulos, separação automática de dados de treino e teste, entre outras, podem ser encontradas no pacote e estão disponíveis para uso.\n",
    "\n",
    "No mais, a partir dos passos dados neste notebook, foi possível perceber a grande facilidade disponibilizada pela utilização de funções e classes prontas na construção de pipelines avançados de data prep. O próximo passo do fluxo completo de modelagem será abordado em um outro notebook."
   ]
  },
  {
   "cell_type": "code",
   "execution_count": null,
   "metadata": {},
   "outputs": [],
   "source": []
  }
 ],
 "metadata": {
  "hide_input": false,
  "kernelspec": {
   "display_name": "Python 3",
   "language": "python",
   "name": "python3"
  },
  "language_info": {
   "codemirror_mode": {
    "name": "ipython",
    "version": 3
   },
   "file_extension": ".py",
   "mimetype": "text/x-python",
   "name": "python",
   "nbconvert_exporter": "python",
   "pygments_lexer": "ipython3",
   "version": "3.8.0"
  },
  "toc": {
   "base_numbering": 1,
   "nav_menu": {},
   "number_sections": true,
   "sideBar": true,
   "skip_h1_title": false,
   "title_cell": "Table of Contents",
   "title_sidebar": "Contents",
   "toc_cell": true,
   "toc_position": {},
   "toc_section_display": true,
   "toc_window_display": false
  },
  "varInspector": {
   "cols": {
    "lenName": 16,
    "lenType": 16,
    "lenVar": 40
   },
   "kernels_config": {
    "python": {
     "delete_cmd_postfix": "",
     "delete_cmd_prefix": "del ",
     "library": "var_list.py",
     "varRefreshCmd": "print(var_dic_list())"
    },
    "r": {
     "delete_cmd_postfix": ") ",
     "delete_cmd_prefix": "rm(",
     "library": "var_list.r",
     "varRefreshCmd": "cat(var_dic_list()) "
    }
   },
   "types_to_exclude": [
    "module",
    "function",
    "builtin_function_or_method",
    "instance",
    "_Feature"
   ],
   "window_display": false
  }
 },
 "nbformat": 4,
 "nbformat_minor": 4
}
